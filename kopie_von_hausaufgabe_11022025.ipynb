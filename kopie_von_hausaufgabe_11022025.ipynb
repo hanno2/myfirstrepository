{
  "nbformat": 4,
  "nbformat_minor": 0,
  "metadata": {
    "colab": {
      "provenance": [],
      "authorship_tag": "ABX9TyMT1cxZr/dlujfyfDM1CcD1",
      "include_colab_link": true
    },
    "kernelspec": {
      "name": "python3",
      "display_name": "Python 3"
    },
    "language_info": {
      "name": "python"
    }
  },
  "cells": [
    {
      "cell_type": "markdown",
      "metadata": {
        "id": "view-in-github",
        "colab_type": "text"
      },
      "source": [
        "<a href=\"https://colab.research.google.com/github/hanno2/myfirstrepository/blob/main/kopie_von_hausaufgabe_11022025.ipynb\" target=\"_parent\"><img src=\"https://colab.research.google.com/assets/colab-badge.svg\" alt=\"Open In Colab\"/></a>"
      ]
    },
    {
      "cell_type": "markdown",
      "source": [
        "**zur Aufgabe 1.**\n",
        "\n",
        "\n",
        "Hier ist ein einfacher Algorithmus, der täglich überwacht, ob eine Person genug Wasser getrunken hat und sie ggf. daran erinnert.\n",
        "\n",
        "Pseudocode:\n",
        "\n",
        "Setze Tagesziel für Wasseraufnahme (z.B. 2 Liter)\n",
        "Setze aktuelle Wasseraufnahme auf 0\n",
        "\n",
        "Eingabe: Benutzer gibt die Menge des getrunkenen Wassers in ml ein\n",
        "\n",
        "Funktion: Überprüfe, ob das Tagesziel erreicht ist\n",
        "    Wenn aktuelle Wasseraufnahme >= Tagesziel\n",
        "        Ausgabe: \"Herzlichen Glückwunsch! Du hast dein Tagesziel erreicht.\"\n",
        "    Sonst\n",
        "        Ausgabe: \"Du hast noch X ml zu trinken, um dein Tagesziel zu erreichen.\"\n",
        "        \n",
        "    Wenn aktuelle Wasseraufnahme < 50% des Tagesziels um 12:00 Uhr\n",
        "        Ausgabe: \"Erinnere dich daran, mehr Wasser zu trinken. Du hast bis jetzt nur X ml getrunken.\"\n",
        "Ende Funktion\n",
        "\n",
        "Dieser Algorithmus verfolgt die tägliche mindest Wasseraufnahme und erinnert die Person, wenn sie das Tagesziel nicht erreicht hat oder zur Mittagszeit noch nicht genug Wasser getrunken hat.\n"
      ],
      "metadata": {
        "id": "es3kNlsmLRIf"
      }
    },
    {
      "cell_type": "code",
      "source": [
        "# Importiere das Modul datetime\n",
        "import datetime\n",
        "\n",
        "# Überprüfe ob das Tages Ziel ereicht wurde\n",
        "tagesziel = 2000\n",
        "aktuelle_wasseraufnahme = 300\n",
        "\n",
        "def überprüfe_tagesziel(aktuelle_wasseraufnahme, tagesziel):\n",
        "    # Rechne um, ob das Tagesziel erreicht ist\n",
        "    if aktuelle_wasseraufnahme >= tagesziel:\n",
        "        print(\"Herzlichen Glückwunsch! Du hast dein Tagesziel erreicht.\")\n",
        "    else:\n",
        "        verbleibend = tagesziel - aktuelle_wasseraufnahme\n",
        "        print(f\"Du hast noch {verbleibend} ml zu trinken, um dein Tagesziel zu erreichen.\")\n",
        "\n",
        "    # Erinnerung um 12:00 Uhr\n",
        "    aktuelle_zeit = datetime.datetime.now().time()\n",
        "    erinnerungszeit = datetime.time(12, 0)\n",
        "\n",
        "    if aktuelle_zeit >= erinnerungszeit and aktuelle_wasseraufnahme < tagesziel * 0.5:\n",
        "        print(f\"Erinnere dich daran, mehr Wasser zu trinken. Du hast bis jetzt nur {aktuelle_wasseraufnahme} ml getrunken.\")\n",
        "\n",
        "# Eingabe der getrunkenen Wassermenge\n",
        "while True:\n",
        "    try:\n",
        "        menge = int(input(\"Geben Sie die Menge des getrunkenen Wassers in ml ein: \"))\n",
        "        if menge < 0:\n",
        "            print(\"Die Wassermenge kann nicht negativ sein. Bitte geben Sie eine gültige Menge ein.\")\n",
        "        else:\n",
        "            aktuelle_wasseraufnahme += menge\n",
        "            überprüfe_tagesziel(aktuelle_wasseraufnahme, tagesziel)\n",
        "    except ValueError:\n",
        "        print(\"Bitte geben Sie eine gültige Zahl ein.\")"
      ],
      "metadata": {
        "colab": {
          "base_uri": "https://localhost:8080/"
        },
        "id": "QbXQAHaSKRP_",
        "outputId": "419703cd-ab3e-4c29-bd8f-8d5633b767fe"
      },
      "execution_count": null,
      "outputs": [
        {
          "output_type": "stream",
          "name": "stdout",
          "text": [
            "Geben Sie die Menge des getrunkenen Wassers in ml ein: 999\n",
            "Du hast noch 701 ml zu trinken, um dein Tagesziel zu erreichen.\n",
            "Geben Sie die Menge des getrunkenen Wassers in ml ein: 333\n",
            "Du hast noch 368 ml zu trinken, um dein Tagesziel zu erreichen.\n",
            "Geben Sie die Menge des getrunkenen Wassers in ml ein: 25\n",
            "Du hast noch 343 ml zu trinken, um dein Tagesziel zu erreichen.\n",
            "Geben Sie die Menge des getrunkenen Wassers in ml ein: 33\n",
            "Du hast noch 310 ml zu trinken, um dein Tagesziel zu erreichen.\n",
            "Geben Sie die Menge des getrunkenen Wassers in ml ein: 400\n",
            "Herzlichen Glückwunsch! Du hast dein Tagesziel erreicht.\n"
          ]
        }
      ]
    },
    {
      "cell_type": "markdown",
      "source": [
        "zur Aufgabe 2.\n",
        "\n",
        "\n",
        "Passwort-Sicherheitsprüfung 🔐\n",
        "Erstellt einen Algorithmus, der überprüft, ob ein Passwort sicher ist.\n",
        "\n",
        "👉 Hinweise:\n",
        "\n",
        "●  Prüft, ob das Passwort mindestens 8 Zeichen lang ist. ●  Enthält es Groß- und Kleinbuchstaben, Zahlen und Sonderzeichen? ●  Gebt eine Bewertung aus („schwach“, „mittel“, „stark“).\n"
      ],
      "metadata": {
        "id": "hlT-WOEtU1Om"
      }
    },
    {
      "cell_type": "markdown",
      "source": [
        "Algorithmus PasswortSicherheitsprüfung:\n",
        "\n",
        "    Eingabe passwort\n",
        "    \n",
        "    sicherheit = 0\n",
        "    \n",
        "    Wenn Länge von passwort >= 8:\n",
        "        sicherheit += 1\n",
        "    \n",
        "    Wenn passwort Großbuchstaben enthält:\n",
        "        sicherheit += 1\n",
        "    \n",
        "    Wenn passwort Kleinbuchstaben enthält:\n",
        "        sicherheit += 1\n",
        "    \n",
        "    Wenn passwort Zahlen enthält:\n",
        "        sicherheit += 1\n",
        "    \n",
        "    Wenn passwort Sonderzeichen enthält:\n",
        "        sicherheit += 1\n",
        "    \n",
        "    Wenn sicherheit == 5:\n",
        "        Ausgabe \"stark\"\n",
        "    Sonst Wenn sicherheit >= 3:\n",
        "        Ausgabe \"mittel\"\n",
        "    Sonst:\n",
        "        Ausgabe \"schwach\"\n"
      ],
      "metadata": {
        "id": "q-Q6JFwtUxkG"
      }
    },
    {
      "cell_type": "code",
      "source": [
        "import re\n",
        "\n",
        "def passwort_sicherheitsprüfung(passwort):\n",
        "    sicherheit = 0\n",
        "\n",
        "    # Überprüfen der Passwortlänge\n",
        "    if len(passwort) >= 8:\n",
        "        sicherheit += 1\n",
        "\n",
        "    # Überprüfen, ob das Passwort Großbuchstaben enthält\n",
        "    if re.search(r'[A-Z]', passwort):\n",
        "        sicherheit += 1\n",
        "\n",
        "    # Überprüfen, ob das Passwort Kleinbuchstaben enthält\n",
        "    if re.search(r'[a-z]', passwort):\n",
        "        sicherheit += 1\n",
        "\n",
        "    # Überprüfen, ob das Passwort Zahlen enthält\n",
        "    if re.search(r'[0-9]', passwort):\n",
        "        sicherheit += 1\n",
        "\n",
        "    # Überprüfen, ob das Passwort Sonderzeichen enthält\n",
        "    if re.search(r'[\\W_]', passwort):\n",
        "        sicherheit += 1\n",
        "\n",
        "    # Ausgabe der Sicherheit des Passworts\n",
        "    if sicherheit == 5:\n",
        "        print(\"herzlichen_glueckwunsch_es_ist_stark\")\n",
        "    elif sicherheit >= 3:\n",
        "        print(\"mittel_noch_nicht_gutgenug\")\n",
        "    else:\n",
        "        print(\"schwach_kopf\")\n",
        "\n",
        "# Beispielpasswort eingeben und Sicherheitsprüfung durchführen\n",
        "passwort = input(\"Geben Sie ein Passwort ein: \")\n",
        "passwort_sicherheitsprüfung(passwort)"
      ],
      "metadata": {
        "id": "cyYYGkWvRg-2",
        "colab": {
          "base_uri": "https://localhost:8080/"
        },
        "outputId": "b098fc37-3150-4d57-857b-7132f96eb11b"
      },
      "execution_count": null,
      "outputs": [
        {
          "output_type": "stream",
          "name": "stdout",
          "text": [
            "Geben Sie ein Passwort ein: kjhutrztre8/U\n",
            "herzlichen_glueckwunsch_es_ist_stark\n"
          ]
        }
      ]
    },
    {
      "cell_type": "markdown",
      "source": [
        " zur Aufgabe 3.\n",
        "\n",
        "\n",
        "Der Schnellste Routenfinder 🚗🗺\n",
        "Drei Straßen führen zu eurem Ziel, jede mit einer anderen Geschwindigkeit und Entfernung. Entwickelt einen Algorithmus, der die schnellste Route berechnet.\n",
        "\n",
        "👉 Hinweise:\n",
        "\n",
        "●  Welche Eingaben braucht ihr? (Streckenlänge, Geschwindigkeit) ●  Wie berechnet ihr die Fahrzeit? ●  Wie findet ihr die kürzeste Zeit?\n"
      ],
      "metadata": {
        "id": "LXCFtJt8VKF-"
      }
    },
    {
      "cell_type": "markdown",
      "source": [
        "**Pseudocode:**\n",
        "\n",
        "Eingabe: Länge der Straße 1 (L1), Geschwindigkeit auf Straße 1 (V1)\n",
        "Eingabe: Länge der Straße 2 (L2), Geschwindigkeit auf Straße 2 (V2)\n",
        "Eingabe: Länge der Straße 3 (L3), Geschwindigkeit auf Straße 3 (V3)\n",
        "\n",
        "Berechne Fahrzeit für Straße 1: Zeit1 = L1 / V1\n",
        "Berechne Fahrzeit für Straße 2: Zeit2 = L2 / V2\n",
        "Berechne Fahrzeit für Straße 3: Zeit3 = L3 / V3\n",
        "\n",
        "Wenn Zeit1 <= Zeit2 und Zeit1 <= Zeit3:\n",
        "    Ausgabe \"Straße 1 ist die schnellste Route\"\n",
        "Sonst wenn Zeit2 <= Zeit1 und Zeit2 <= Zeit3:\n",
        "    Ausgabe \"Straße 2 ist die schnellste Route\"\n",
        "Sonst:\n",
        "    Ausgabe \"Straße 3 ist die schnellste Route\""
      ],
      "metadata": {
        "id": "BufcbWINVdE3"
      }
    },
    {
      "cell_type": "code",
      "source": [
        "def schnellste_route():\n",
        "    # Eingabe der Längen und Geschwindigkeiten der Straßen\n",
        "    try:\n",
        "        L1 = float(input(\"Geben Sie die Länge der Straße 1 in km ein: \"))\n",
        "        V1 = float(input(\"Geben Sie die Geschwindigkeit auf Straße 1 in km/h ein: \"))\n",
        "        L2 = float(input(\"Geben Sie die Länge der Straße 2 in km ein: \"))\n",
        "        V2 = float(input(\"Geben Sie die Geschwindigkeit auf Straße 2 in km/h ein: \"))\n",
        "        L3 = float(input(\"Geben Sie die Länge der Straße 3 in km ein: \"))\n",
        "        V3 = float(input(\"Geben Sie die Geschwindigkeit auf Straße 3 in km/h ein: \"))\n",
        "\n",
        "        # Berechnung der Fahrzeiten\n",
        "        zeit1 = L1 / V1\n",
        "        zeit2 = L2 / V2\n",
        "        zeit3 = L3 / V3\n",
        "\n",
        "        # Bestimmen der schnellsten Route\n",
        "        if zeit1 <= zeit2 and zeit1 <= zeit3:\n",
        "            print(\"Straße 1 ist die schnellste Route\")\n",
        "        elif zeit2 <= zeit1 and zeit2 <= zeit3:\n",
        "            print(\"Straße 2 ist die schnellste Route\")\n",
        "        else:\n",
        "            print(\"Straße 3 ist die schnellste Route\")\n",
        "\n",
        "    except ValueError:\n",
        "        print(\"Bitte geben Sie gültige Zahlen ein.\")\n",
        "    except ZeroDivisionError:\n",
        "        print(\"Die Geschwindigkeit darf nicht null sein.\")\n",
        "\n",
        "# Aufruf der Funktion zur Berechnung der schnellsten Route\n",
        "schnellste_route()\n"
      ],
      "metadata": {
        "id": "yY2HlimCV8r_",
        "colab": {
          "base_uri": "https://localhost:8080/"
        },
        "outputId": "f2fed3c1-8894-4402-ca06-adbc0c74b105"
      },
      "execution_count": null,
      "outputs": [
        {
          "output_type": "stream",
          "name": "stdout",
          "text": [
            "Geben Sie die Länge der Straße 1 in km ein: 9\n",
            "Geben Sie die Geschwindigkeit auf Straße 1 in km/h ein: 66\n",
            "Geben Sie die Länge der Straße 2 in km ein: 4\n",
            "Geben Sie die Geschwindigkeit auf Straße 2 in km/h ein: 33\n",
            "Geben Sie die Länge der Straße 3 in km ein: 5\n",
            "Geben Sie die Geschwindigkeit auf Straße 3 in km/h ein: 33\n",
            "Straße 2 ist die schnellste Route\n"
          ]
        }
      ]
    }
  ]
}