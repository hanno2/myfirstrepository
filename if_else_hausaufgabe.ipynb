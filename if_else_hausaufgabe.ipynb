{
  "nbformat": 4,
  "nbformat_minor": 0,
  "metadata": {
    "colab": {
      "provenance": [],
      "include_colab_link": true
    },
    "kernelspec": {
      "name": "python3",
      "display_name": "Python 3"
    },
    "language_info": {
      "name": "python"
    }
  },
  "cells": [
    {
      "cell_type": "markdown",
      "metadata": {
        "id": "view-in-github",
        "colab_type": "text"
      },
      "source": [
        "<a href=\"https://colab.research.google.com/github/hanno2/myfirstrepository/blob/main/if_else_hausaufgabe.ipynb\" target=\"_parent\"><img src=\"https://colab.research.google.com/assets/colab-badge.svg\" alt=\"Open In Colab\"/></a>"
      ]
    },
    {
      "cell_type": "markdown",
      "source": [
        "# Hausaufgabe\n",
        "Heute haben wir uns mit den Kontrollstrukturen in Python beschäftigt.\n",
        "Im Zuge dessen bearbeitest du heute Nachmittag weitere kleine Aufgaben zu diesem Thema. Nimm dieses Notebook und füge deinen Code hinzu an den passenden Stellen.\n",
        "**Abgabe**: Gehe oben links auf Datei, dann auf Herunterladen, dann auf .ipynb. Dann startet ein Download des Notebooks. Diese heruntergeladene Datei fügst du bitte als Abgabe in den Classroom ein.\n",
        "\n"
      ],
      "metadata": {
        "id": "32gVnQpZ7mQz"
      }
    },
    {
      "cell_type": "markdown",
      "source": [
        "## if-else\n",
        "### Aufgabe 1 (BMI-Index)\n",
        "Berechne den Body-Mass-Index (BMI) und klassifiziere ihn:\n",
        "- < 18.5: Untergewicht\n",
        "- 18.5 - 24.9: Normalgewicht\n",
        "- 25 - 29.9: Übergewicht\n",
        "- 30+: Adipositas\n",
        "\n",
        "Zusatzaufgabe: Füge eine input-Funktion hinzu, damit du beim Ausführen des Codes, eine Eingabe tätigen kannst.\n",
        "Hinweis: `kg = float(input(\"Bitte gib dein Gewicht ein: \"))`"
      ],
      "metadata": {
        "id": "9pZQdBfN8GDV"
      }
    },
    {
      "cell_type": "code",
      "source": [
        "# Eingabe von Gewicht und Größe\n",
        "gewicht = float(input(\"Bitte gib dein Gewicht in Kilogramm ein: \"))\n",
        "groesse = float(input(\"Bitte gib deine Größe in Metern ein: \"))\n",
        "\n",
        "# Berechnung des BMI\n",
        "bmi = gewicht / (groesse ** 2)\n",
        "\n",
        "# Klassifizierung des BMI\n",
        "if bmi < 18.5:\n",
        "    kategori = \"Untergewicht\"\n",
        "elif 18.5 <= bmi <= 24.9:\n",
        "    kategori = \"Normalgewicht\"\n",
        "elif 25 <= bmi <= 29.9:\n",
        "    kategori = \"Übergewicht\"\n",
        "else:\n",
        "    kategori = \"Adipositas\"\n",
        "\n",
        "# Ausgabe des Ergebnisses\n",
        "print(f\"Dein BMI beträgt: {bmi:.2f}\")\n",
        "print(f\"Du bist in der Kategorie: {kategori}\")"
      ],
      "metadata": {
        "id": "54YQr9hA8i95",
        "colab": {
          "base_uri": "https://localhost:8080/"
        },
        "outputId": "9573b315-c66c-4195-dbfc-88064c47404b"
      },
      "execution_count": 12,
      "outputs": [
        {
          "output_type": "stream",
          "name": "stdout",
          "text": [
            "Bitte gib dein Gewicht in Kilogramm ein: 68\n",
            "Bitte gib deine Größe in Metern ein: 79\n",
            "Dein BMI beträgt: 0.01\n",
            "Du bist in der Kategorie: Untergewicht\n"
          ]
        }
      ]
    },
    {
      "cell_type": "markdown",
      "source": [
        "### Beispiel-Aufgabe zum Modulo-Operator (Division mit Rest)\n",
        "Schreibe ein Programm, das eine Zahl überprüft und ausgibt, ob die Zahl durch 3 teilbar ist.\n",
        "Modulo-Operator in Python --> `%`"
      ],
      "metadata": {
        "id": "Q-j4zOXLGJeP"
      }
    },
    {
      "cell_type": "code",
      "source": [
        "zahl = 6\n",
        "if ((zahl % 3) == 0):\n",
        "  print(\"Zahl ist durch 3 teilbar\")\n",
        "else:\n",
        "  print(\"Zahl ist nicht durch 3 teilbar\")"
      ],
      "metadata": {
        "colab": {
          "base_uri": "https://localhost:8080/"
        },
        "id": "U1Vm_NNfGWMi",
        "outputId": "71357308-014b-45f2-a192-e4ca8810b2fa"
      },
      "execution_count": 16,
      "outputs": [
        {
          "output_type": "stream",
          "name": "stdout",
          "text": [
            "Zahl ist durch 3 teilbar\n"
          ]
        }
      ]
    },
    {
      "cell_type": "markdown",
      "source": [
        "### Aufgabe 2 (Schaltjahr)\n",
        "Ein Jahr ist ein Schaltjahr, wenn es durch 4 teilbar (Achtung: modulo-Operator) ist, außer es ist durch 100 teilbar – außer es ist durch 400 teilbar.\n",
        "\n",
        "Zusatzaufgabe: Füge eine input-Funktion hinzu, damit du beim Ausführen des Codes, eine Eingabe tätigen kannst."
      ],
      "metadata": {
        "id": "Tz0qkYnt8jIk"
      }
    },
    {
      "cell_type": "code",
      "source": [
        "# Eingabe des Jahres\n",
        "jahr = int(input(\"Bitte geben Sie ein Jahr ein: \"))\n",
        "\n",
        "# Überprüfung, ob das Jahr ein Schaltjahr ist\n",
        "if (jahr % 4 == 0 and jahr % 100 != 0) or (jahr % 400 == 0):\n",
        "    print(f\"{jahr} ist ein Schaltjahr.\")\n",
        "else:\n",
        "    print(f\"{jahr} ist kein Schaltjahr.\")"
      ],
      "metadata": {
        "id": "Yj2Kb2rG8rhM",
        "colab": {
          "base_uri": "https://localhost:8080/"
        },
        "outputId": "be828da9-3f1b-4b96-9a7c-01e047f326ab"
      },
      "execution_count": 21,
      "outputs": [
        {
          "output_type": "stream",
          "name": "stdout",
          "text": [
            "Bitte geben Sie ein Jahr ein: 2024\n",
            "2024 ist ein Schaltjahr.\n"
          ]
        }
      ]
    },
    {
      "cell_type": "markdown",
      "source": [
        "### Aufgabe 3 (Rabatt)\n",
        "Wenn ein Einkaufswert über 100€ liegt, gibt es 10% Rabatt, ansonsten keinen. Berechne den Endpreis.\n",
        "Zusatzaufgabe: Füge eine input-Funktion hinzu, damit du beim Ausführen des Codes, eine Eingabe tätigen kannst."
      ],
      "metadata": {
        "id": "aIckDaYu8sBi"
      }
    },
    {
      "cell_type": "code",
      "source": [
        "# Eingabe des Einkaufswerts\n",
        "einkaufswert = float(input(\"Bitte geben Sie den Einkaufswert in Euro ein: \"))\n",
        "\n",
        "# Berechnung des Endpreises mit oder ohne Rabatt\n",
        "if einkaufswert > 100:\n",
        "    rabatt = einkaufswert * 0.10\n",
        "    endpreis = einkaufswert - rabatt\n",
        "    print(f\"Sie erhalten einen Rabatt von 10%.\")\n",
        "else:\n",
        "    endpreis = einkaufswert\n",
        "    print(f\"Sie erhalten keinen Rabatt.\")\n",
        "\n",
        "# Ausgabe des Endpreises\n",
        "print(f\"Der Endpreis beträgt: {endpreis:.2f} Euro.\")"
      ],
      "metadata": {
        "id": "iplaWFpB8ycy"
      },
      "execution_count": null,
      "outputs": []
    },
    {
      "cell_type": "markdown",
      "source": [
        "## Datentypen\n",
        "### Aufgabe 1\n",
        "Initialisiere Variablen mit den Werten\n",
        "- 42\n",
        "- 3.14\n",
        "- \"Hallo Welt\"\n",
        "- True\n",
        "- [1,2,3]\n",
        "- (1,2)\n",
        "- {\"name\": \"Max\", \"alter\": 22}\n"
      ],
      "metadata": {
        "id": "Em4WQGm888Mc"
      }
    },
    {
      "cell_type": "code",
      "source": [
        "# Initialisierung der Variablen\n",
        "integer_wert = 42\n",
        "float_wert = 3.14\n",
        "string_wert = \"Hallo Welt\"\n",
        "boolean_wert = True\n",
        "liste_wert = [1, 2, 3]\n",
        "tupel_wert = (1, 2)\n",
        "dictionary_wert = {\"name\": \"Max\", \"alter\": 22}\n",
        "\n",
        "# Ausgabe der Variablen\n",
        "print(\"Integer:\", integer_wert)\n",
        "print(\"Float:\", float_wert)\n",
        "print(\"String:\", string_wert)\n",
        "print(\"Boolean:\", boolean_wert)\n",
        "print(\"Liste:\", liste_wert)\n",
        "print(\"Tupel:\", tupel_wert)\n",
        "print(\"Dictionary:\", dictionary_wert)"
      ],
      "metadata": {
        "id": "JOudTf8Q9aPJ"
      },
      "execution_count": null,
      "outputs": []
    },
    {
      "cell_type": "markdown",
      "source": [
        "### Aufgabe 2\n",
        "Bestimme jeweils um welche Art des Datentyps es sich handelt"
      ],
      "metadata": {
        "id": "gnrmw0w79abL"
      }
    },
    {
      "cell_type": "markdown",
      "source": [
        "integer_wert: Initialisiert eine Variable mit dem ganzzahligen Wert 42.\n",
        "\n",
        "float_wert: Initialisiert eine Variable mit dem Gleitkommazahl-Wert 3.14.\n",
        "\n",
        "string_wert: Initialisiert eine Variable mit dem String \"Hallo Welt\".\n",
        "\n",
        "boolean_wert: Initialisiert eine Variable mit dem booleschen Wert True.\n",
        "\n",
        "liste_wert: Initialisiert eine Variable mit der Liste [1, 2, 3].\n",
        "\n",
        "tupel_wert: Initialisiert eine Variable mit dem Tupel (1, 2).\n",
        "\n",
        "dictionary_wert: Initialisiert eine Variable mit dem Dictionary {\"name\": \"Max\", \"alter\": 22}."
      ],
      "metadata": {
        "id": "Erk3erdxVpWW"
      }
    },
    {
      "cell_type": "markdown",
      "source": [],
      "metadata": {
        "id": "uM-IpReO9b_R"
      }
    },
    {
      "cell_type": "markdown",
      "source": [
        "### Aufgabe 3\n",
        "Recherchiere nach dem Begriff Duck Typing in Python. Was bedeutet das?"
      ],
      "metadata": {
        "id": "Q1HHvqkv9cgx"
      }
    },
    {
      "cell_type": "markdown",
      "source": [
        "Duck Typing ist ein Konzept in der objektorientierten Programmierung, das besonders in dynamisch typisierten Sprachen wie Python verwendet wird. Es basiert auf dem Prinzip:\n",
        "\n",
        "\"If it looks like a duck, swims like a duck, and quacks like a duck, then it probably is a duck.\"\n",
        "\n",
        "Das bedeutet, dass Python nicht den Typ einer Variable überprüft, sondern ob sie das benötigte Verhalten hat."
      ],
      "metadata": {
        "id": "EdMsZpJDWV5q"
      }
    },
    {
      "cell_type": "markdown",
      "source": [],
      "metadata": {
        "id": "mOfhQQUK9lhu"
      }
    }
  ]
}