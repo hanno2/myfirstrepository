{
  "nbformat": 4,
  "nbformat_minor": 0,
  "metadata": {
    "colab": {
      "provenance": [],
      "include_colab_link": true
    },
    "kernelspec": {
      "name": "python3",
      "display_name": "Python 3"
    },
    "language_info": {
      "name": "python"
    }
  },
  "cells": [
    {
      "cell_type": "markdown",
      "metadata": {
        "id": "view-in-github",
        "colab_type": "text"
      },
      "source": [
        "<a href=\"https://colab.research.google.com/github/hanno2/myfirstrepository/blob/main/Kopie_von_Hanno_Leweke_AND_oder_OR.ipynb\" target=\"_parent\"><img src=\"https://colab.research.google.com/assets/colab-badge.svg\" alt=\"Open In Colab\"/></a>"
      ]
    },
    {
      "cell_type": "markdown",
      "source": [],
      "metadata": {
        "id": "-8OTOexO1Vkj"
      }
    },
    {
      "cell_type": "markdown",
      "source": [
        "## **Aufgabe 1: Apfelauswahl mit `or`**\n",
        "### **Beschreibung:**  \n",
        "Schreibe ein Programm, das den Benutzer fragt, ob er einen **süßen** oder einen **weichen** Apfel möchte. Danach soll das Programm prüfen, ob eine bestimmte Apfelsorte den Wünschen entspricht.\n",
        "\n",
        "### **Details:**\n",
        "- Das Programm enthält eine Liste mit Apfelsorten und deren Eigenschaften (Farbe, Geschmack, Konsistenz).\n",
        "- Der Benutzer gibt ein, ob er einen süßen oder weichen Apfel möchte.\n",
        "- Das Programm prüft mit **`or`**, ob mindestens eine dieser Eigenschaften für eine Apfelsorte zutrifft.\n",
        "- Falls ja, werden passende Apfelsorten ausgegeben.\n",
        "\n",
        "### **Beispiel-Eingabe:**\n",
        "```\n",
        "Möchtest du einen süßen Apfel? (ja/nein): ja\n",
        "Möchtest du einen weichen Apfel? (ja/nein): nein\n",
        "```\n",
        "### **Beispiel-Ausgabe:**\n",
        "```\n",
        "Du solltest diese Apfelsorten kaufen: Golden Delicious, Fuji, Honeycrisp\n",
        "```\n",
        "\n",
        "\n"
      ],
      "metadata": {
        "id": "vAXdwXC91kbw"
      }
    },
    {
      "cell_type": "code",
      "source": [
        "# Liste der Apfelsorten mit ihren Eigenschaften\n",
        "apfelsorten = {\n",
        "    \"Golden Delicious\": {\"farbe\": \"gelb\", \"geschmack\": \"süß\", \"konsistenz\": \"weich\"},\n",
        "    \"Granny Smith\": {\"farbe\": \"grün\", \"geschmack\": \"sauer\", \"konsistenz\": \"knackig\"},\n",
        "    \"Fuji\": {\"farbe\": \"rot\", \"geschmack\": \"süß\", \"konsistenz\": \"knackig\"},\n",
        "    \"Honeycrisp\": {\"farbe\": \"rot\", \"geschmack\": \"süß\", \"konsistenz\": \"knackig\"},\n",
        "    \"Braeburn\": {\"farbe\": \"rot\", \"geschmack\": \"sauer\", \"konsistenz\": \"knackig\"}\n",
        "}\n",
        "\n",
        "# Benutzerpräferenzen abfragen\n",
        "suesser_apfel = input(\"Möchtest du einen süßen Apfel? (ja/nein): \").strip().lower()\n",
        "weicher_apfel = input(\"Möchtest du einen weichen Apfel? (ja/nein): \").strip().lower()\n",
        "\n",
        "# Passende Apfelsorten basierend auf den Benutzerpräferenzen finden\n",
        "passende_apfelsorten = []\n",
        "\n",
        "for apfel, eigenschaften in apfelsorten.items():\n",
        "    if (suesser_apfel == \"ja\" and eigenschaften[\"geschmack\"] == \"süß\") or (weicher_apfel == \"ja\" and eigenschaften[\"konsistenz\"] == \"weich\"):\n",
        "        passende_apfelsorten.append(apfel)\n",
        "\n",
        "# Ausgabe der passenden Apfelsorten\n",
        "if passende_apfelsorten:\n",
        "    print(\"Du solltest diese Apfelsorten kaufen: \" + \", \".join(passende_apfelsorten))\n",
        "else:\n",
        "    print(\"Es wurden keine Apfelsorten gefunden, die deinen Präferenzen entsprechen.\")\n"
      ],
      "metadata": {
        "id": "tyPqDAaL2Qn7",
        "colab": {
          "base_uri": "https://localhost:8080/"
        },
        "outputId": "a6d4cf7c-24db-4831-8645-edc26dc57214"
      },
      "execution_count": null,
      "outputs": [
        {
          "output_type": "stream",
          "name": "stdout",
          "text": [
            "Möchtest du einen süßen Apfel? (ja/nein): ja\n",
            "Möchtest du einen weichen Apfel? (ja/nein): ja\n",
            "Du solltest diese Apfelsorten kaufen: Golden Delicious, Fuji, Honeycrisp\n"
          ]
        }
      ]
    },
    {
      "cell_type": "markdown",
      "source": [
        "---\n",
        "\n",
        "## **Aufgabe 2: Kinoticket-Preis mit `and`**\n",
        "### **Beschreibung:**  \n",
        "Ein Kino hat folgende Ticketpreise:  \n",
        "- Kinder unter **12 Jahren** und Senioren ab **65 Jahren** zahlen **5€**.  \n",
        "- Alle anderen zahlen **10€**.  \n",
        "\n",
        "Schreibe ein Programm, das:\n",
        "1. Den Benutzer nach seinem **Alter** fragt.\n",
        "2. Den Preis mit **`and`** berechnet (ermäßigt nur, wenn **beide Bedingungen** erfüllt sind).\n",
        "3. Den passenden Ticketpreis ausgibt.\n",
        "\n",
        "### **Beispiel-Eingabe:**\n",
        "```\n",
        "Wie alt bist du? 70\n",
        "```\n",
        "### **Beispiel-Ausgabe:**\n",
        "```\n",
        "Dein Ticket kostet 5€.\n",
        "```\n",
        "\n"
      ],
      "metadata": {
        "id": "QF22zpnt12-y"
      }
    },
    {
      "cell_type": "code",
      "source": [
        "# Aufgabe 2\n",
        "\n",
        "# Den Benutzer nach seinem Alter fragen\n",
        "alter = int(input(\"Wie alt bist du? \"))\n",
        "\n",
        "# Den passenden Ticketpreis berechnen\n",
        "if alter < 12 or alter >= 65:\n",
        "    preis = 5\n",
        "else:\n",
        "    preis = 10\n",
        "\n",
        "# Den Ticketpreis ausgeben\n",
        "print(f\"Dein Ticket kostet {preis}€.\")\n"
      ],
      "metadata": {
        "id": "cQ6Bw-Bj2Trh",
        "colab": {
          "base_uri": "https://localhost:8080/"
        },
        "outputId": "61ef5709-3e8a-4c6f-f9e6-d82dcd82a4de"
      },
      "execution_count": null,
      "outputs": [
        {
          "output_type": "stream",
          "name": "stdout",
          "text": [
            "Wie alt bist du? 56\n",
            "Dein Ticket kostet 10€.\n"
          ]
        }
      ]
    },
    {
      "cell_type": "markdown",
      "source": [
        "---\n",
        "\n",
        "## **Aufgabe 3: Passwortprüfung mit `and`**\n",
        "### **Beschreibung:**  \n",
        "Ein sicheres Passwort muss folgende Bedingungen erfüllen:\n",
        "- **Mindestens 8 Zeichen lang**\n",
        "- **Mindestens eine Zahl enthalten**\n",
        "\n",
        "Schreibe ein Programm, das:\n",
        "1. Den Benutzer nach einem Passwort fragt.\n",
        "2. Prüft, ob beide Bedingungen mit **`and`** erfüllt sind.\n",
        "3. Entsprechend eine Meldung ausgibt.\n",
        "\n",
        "### **Beispiel-Eingabe:**\n",
        "```\n",
        "Gib ein Passwort ein: secret123\n",
        "```\n",
        "### **Beispiel-Ausgabe:**\n",
        "```\n",
        "Passwort ist sicher!\n",
        "```\n",
        "\n",
        "Falls das Passwort unsicher ist:\n",
        "```\n",
        "Gib ein Passwort ein: abc\n",
        "Passwort ist unsicher.\n",
        "```\n",
        "\n"
      ],
      "metadata": {
        "id": "43Wat6t118_n"
      }
    },
    {
      "cell_type": "code",
      "source": [
        "# Aufgabe 3\n",
        "# Den Benutzer nach einem Passwort fragen\n",
        "passwort = input(\"Gib ein Passwort ein: \")\n",
        "\n",
        "# Bedingungen prüfen\n",
        "laenge_bedingung = len(passwort) >= 8\n",
        "zahl_bedingung = any(char.isdigit() for char in passwort)\n",
        "\n",
        "# Überprüfung beider Bedingungen mit \"und\"\n",
        "if laenge_bedingung and zahl_bedingung:\n",
        "    print(\"Passwort ist sicher!\")\n",
        "else:\n",
        "    print(\"Passwort ist unsicher.\")\n"
      ],
      "metadata": {
        "id": "Rxwm-kg_2WS5",
        "colab": {
          "base_uri": "https://localhost:8080/"
        },
        "outputId": "18be8098-1a65-42d9-eb2b-9f2f5d04ba76"
      },
      "execution_count": null,
      "outputs": [
        {
          "output_type": "stream",
          "name": "stdout",
          "text": [
            "Gib ein Passwort ein: khh7/Uzi8\n",
            "Passwort ist sicher!\n"
          ]
        }
      ]
    },
    {
      "cell_type": "markdown",
      "source": [
        "---\n",
        "\n",
        "## **Aufgabe 4: Wetterempfehlung mit `or`**\n",
        "### **Beschreibung:**  \n",
        "Schreibe ein Programm, das eine **Tagesempfehlung** gibt, basierend auf dem Wetter.\n",
        "\n",
        "**Regeln:**\n",
        "- Falls es **regnet oder kalt ist (unter 10°C)** → `\"Zieh eine Jacke an!\"`\n",
        "- Falls es **sonnig und warm ist (über 20°C)** → `\"Geh raus und genieße die Sonne!\"`\n",
        "- Falls es **dazwischen** liegt → `\"Zieh dich bequem an.\"`\n",
        "\n",
        "### **Beispiel-Eingabe:**\n",
        "```\n",
        "Regnet es? (ja/nein): ja\n",
        "Wie ist die Temperatur in °C?: 15\n",
        "```\n",
        "### **Beispiel-Ausgabe:**\n",
        "```\n",
        "Zieh eine Jacke an!\n",
        "```\n",
        "\n"
      ],
      "metadata": {
        "id": "-CoK14FD2FXq"
      }
    },
    {
      "cell_type": "code",
      "source": [
        "# Aufgabe 4\n",
        "# Benutzer nach den Wetterbedingungen fragen\n",
        "\n",
        "regen = input(\"Regnet es? (ja/nein): \").strip().lower()\n",
        "temperatur = float(input(\"Wie ist die Temperatur in °C?: \"))\n",
        "\n",
        "# Tagesempfehlung basierend auf den Wetterbedingungen\n",
        "if regen == \"ja\" or temperatur < 10:\n",
        "    print(\"Zieh eine Jacke an!\")\n",
        "elif temperatur > 20:\n",
        "    print(\"Geh raus und genieße die Sonne!\")\n",
        "else:\n",
        "    print(\"Zieh dich bequem an.\")\n"
      ],
      "metadata": {
        "id": "aff1Z7xY2Y9Y",
        "colab": {
          "base_uri": "https://localhost:8080/"
        },
        "outputId": "c8e84c44-10dc-4e14-9b5a-f270fa455bf3"
      },
      "execution_count": null,
      "outputs": [
        {
          "output_type": "stream",
          "name": "stdout",
          "text": [
            "Regnet es? (ja/nein): nein\n",
            "Wie ist die Temperatur in °C?: 21\n",
            "Geh raus und genieße die Sonne!\n"
          ]
        }
      ]
    },
    {
      "cell_type": "markdown",
      "source": [
        "---\n",
        "\n",
        "## **Aufgabe 5: Einkaufsrabatt mit `and` und `or`**\n",
        "### **Beschreibung:**  \n",
        "Ein Supermarkt gibt Rabatte basierend auf dem Einkaufswert:\n",
        "- **10% Rabatt**, wenn der Einkauf **über 100€** liegt **und** eine Kundenkarte vorhanden ist.\n",
        "- **5% Rabatt**, wenn nur eine der beiden Bedingungen erfüllt ist (also entweder über 100€ oder eine Kundenkarte).\n",
        "\n",
        "Schreibe ein Programm, das:\n",
        "1. Den Einkaufsbetrag und die Info zur Kundenkarte abfragt.\n",
        "2. Mit **`and` und `or`** die Rabatte berechnet.\n",
        "3. Den endgültigen Preis ausgibt.\n",
        "\n",
        "### **Beispiel-Eingabe:**\n",
        "```\n",
        "Wie hoch ist dein Einkaufsbetrag? 120\n",
        "Hast du eine Kundenkarte? (ja/nein): ja\n",
        "```\n",
        "### **Beispiel-Ausgabe:**\n",
        "```\n",
        "Du bekommst 10% Rabatt! Dein neuer Preis ist: 108€\n",
        "```\n",
        "\n",
        "Falls der Einkauf nur eine der Bedingungen erfüllt:\n",
        "```\n",
        "Wie hoch ist dein Einkaufsbetrag? 90\n",
        "Hast du eine Kundenkarte? (ja/nein): ja\n",
        "Du bekommst 5% Rabatt! Dein neuer Preis ist: 85.50€\n",
        "```\n",
        "\n"
      ],
      "metadata": {
        "id": "rBB9JlXv2IY9"
      }
    },
    {
      "cell_type": "code",
      "source": [
        "# Aufgabe 5\n",
        "# Den Benutzer nach dem Einkaufsbetrag und der Kundenkarte fragen\n",
        "einkaufsbetrag = float(input(\"Wie hoch ist dein Einkaufsbetrag? \"))\n",
        "kundenkarte = input(\"Hast du eine Kundenkarte? (ja/nein): \").strip().lower()\n",
        "\n",
        "# Rabatte berechnen\n",
        "if einkaufsbetrag > 100 and kundenkarte == \"ja\":\n",
        "    rabatt = 0.10\n",
        "    print(\"Du bekommst 10% Rabatt!\")\n",
        "elif einkaufsbetrag > 100 or kundenkarte == \"ja\":\n",
        "    rabatt = 0.05\n",
        "    print(\"Du bekommst 5% Rabatt!\")\n",
        "else:\n",
        "    rabatt = 0.0\n",
        "    print(\"Leider bekommst du keinen Rabatt.\")\n",
        "\n",
        "# Endgültigen Preis berechnen\n",
        "neuer_preis = einkaufsbetrag * (1 - rabatt)\n",
        "print(f\"Dein neuer Preis ist: {neuer_preis:.2f}€.\")\n"
      ],
      "metadata": {
        "id": "CCox1g2N2bxF"
      },
      "execution_count": null,
      "outputs": []
    },
    {
      "cell_type": "markdown",
      "source": [
        "---\n",
        "\n",
        "## **Aufgabe 6: Zugangskontrolle mit `or`**\n",
        "### **Beschreibung:**  \n",
        "Ein Gebäude hat eine Sicherheitskontrolle. Besucher dürfen nur eintreten, wenn sie entweder:\n",
        "- **Einen Mitarbeiterausweis** haben oder\n",
        "- **Einen Termin mit einer gültigen Einladung** haben.\n",
        "\n",
        "Schreibe ein Programm, das:\n",
        "1. Den Benutzer fragt, ob er einen Mitarbeiterausweis hat.\n",
        "2. Falls nicht, fragt, ob er eine Einladung hat.\n",
        "3. Mit **`or`** entscheidet, ob der Zugang gewährt wird.\n",
        "\n",
        "### **Beispiel-Eingabe:**\n",
        "```\n",
        "Hast du einen Mitarbeiterausweis? (ja/nein): nein\n",
        "Hast du eine Einladung? (ja/nein): ja\n",
        "```\n",
        "### **Beispiel-Ausgabe:**\n",
        "```\n",
        "Zugang gewährt!\n",
        "```\n",
        "\n",
        "Falls weder Ausweis noch Einladung vorhanden sind:\n",
        "```\n",
        "Hast du einen Mitarbeiterausweis? (ja/nein): nein\n",
        "Hast du eine Einladung? (ja/nein): nein\n",
        "Zugang verweigert.\n",
        "```"
      ],
      "metadata": {
        "id": "yiDQfJzM2MLP"
      }
    },
    {
      "cell_type": "code",
      "source": [
        "# Aufgabe 6\n",
        "# Den Benutzer fragen, ob er einen Mitarbeiterausweis hat\n",
        "mitarbeiterausweis = input(\"Hast du einen Mitarbeiterausweis? (ja/nein): \").strip().lower()\n",
        "\n",
        "# Falls kein Mitarbeiterausweis, fragen, ob eine Einladung vorhanden ist\n",
        "if mitarbeiterausweis == \"nein\":\n",
        "    einladung = input(\"Hast du eine Einladung? (ja/nein): \").strip().lower()\n",
        "else:\n",
        "    einladung = \"nein\"\n",
        "\n",
        "# Zugangskontrolle\n",
        "if mitarbeiterausweis == \"ja\" or einladung == \"ja\":\n",
        "    print(\"Zugang gewährt!\")\n",
        "else:\n",
        "    print(\"Zugang verweigert.\")\n"
      ],
      "metadata": {
        "id": "k5nOfBM42fSv",
        "colab": {
          "base_uri": "https://localhost:8080/"
        },
        "outputId": "4fccc78d-7940-4211-fbfb-a85044cbda7b"
      },
      "execution_count": null,
      "outputs": [
        {
          "output_type": "stream",
          "name": "stdout",
          "text": [
            "Hast du einen Mitarbeiterausweis? (ja/nein): ja\n",
            "Zugang gewährt!\n"
          ]
        }
      ]
    }
  ]
}