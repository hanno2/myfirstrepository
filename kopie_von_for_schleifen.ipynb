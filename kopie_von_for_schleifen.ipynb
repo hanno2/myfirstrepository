{
  "nbformat": 4,
  "nbformat_minor": 0,
  "metadata": {
    "colab": {
      "provenance": [],
      "include_colab_link": true
    },
    "kernelspec": {
      "name": "python3",
      "display_name": "Python 3"
    },
    "language_info": {
      "name": "python"
    }
  },
  "cells": [
    {
      "cell_type": "markdown",
      "metadata": {
        "id": "view-in-github",
        "colab_type": "text"
      },
      "source": [
        "<a href=\"https://colab.research.google.com/github/hanno2/myfirstrepository/blob/main/kopie_von_for_schleifen.ipynb\" target=\"_parent\"><img src=\"https://colab.research.google.com/assets/colab-badge.svg\" alt=\"Open In Colab\"/></a>"
      ]
    },
    {
      "cell_type": "markdown",
      "source": [
        "## 1. Klassische C-ähnliche for-Schleife (mit range)\n",
        "\n",
        "Diese Schleife gibt die Zahlen von 0 bis 4 aus:\n",
        "\n",
        "```\n",
        "for (int i = 0; i < 5; i++) {\n",
        "    printf(\"%d\\n\", i);\n",
        "}\n",
        "```\n",
        "\n",
        "`int i = 0` - `i` Zählervariable, i steht für Iterationen bzw. Wiederholungen, die Zählervariable wird mit dem Wert 0 initialisiert\n",
        "\n",
        "`i < 5` - die Abbruchsbedingung fuer die Schleife\n",
        "\n",
        "`i++` - `i++ = i + 1` Erhoeung des Wertes der Variable um 1\n",
        "\n",
        "Diese Schleife gibt die Zahlen von 10 bis 0 aus:\n",
        "\n",
        "```\n",
        "for (int i = 10; i > 0; i--) {\n",
        "    printf(\"%d\\n\", i);\n",
        "}\n",
        "```\n",
        "\n",
        "In Python schreibt man solche Schleifen viel einfacher:\n",
        "```\n",
        "for i in range(5):\n",
        "    print(i)\n",
        "\n",
        "```\n",
        "\n",
        "Diese Schleife startet bei 0, laeuft bis 5 (exklusiv), Schrittweite 1\n",
        "```\n",
        "for i in range(0, 5, 1):  \n",
        "    print(i)\n",
        "```\n"
      ],
      "metadata": {
        "id": "CKcnSroZ4fec"
      }
    },
    {
      "cell_type": "code",
      "source": [
        "def main():\n",
        "\n",
        "    for i in range(5):\n",
        "        print(i)\n",
        "if __name__ == \"__main__\": main()"
      ],
      "metadata": {
        "id": "lTYT0F_rL0-T",
        "outputId": "2291a825-f58a-4560-8a17-df230fece6c0",
        "colab": {
          "base_uri": "https://localhost:8080/"
        }
      },
      "execution_count": null,
      "outputs": [
        {
          "output_type": "stream",
          "name": "stdout",
          "text": [
            "0\n",
            "1\n",
            "2\n",
            "3\n",
            "4\n"
          ]
        }
      ]
    },
    {
      "cell_type": "code",
      "source": [
        "for i in range(5):  # Zählt von 0 bis 4\n",
        "    print(i)\n"
      ],
      "metadata": {
        "colab": {
          "base_uri": "https://localhost:8080/"
        },
        "id": "jWm39_5E7ObC",
        "outputId": "0c735899-5bef-4c94-f267-27310cceab8b"
      },
      "execution_count": null,
      "outputs": [
        {
          "output_type": "stream",
          "name": "stdout",
          "text": [
            "0\n",
            "1\n",
            "2\n",
            "3\n",
            "4\n"
          ]
        }
      ]
    },
    {
      "cell_type": "code",
      "source": [
        "for i in range(2, 10, 2):\n",
        "    print(i)"
      ],
      "metadata": {
        "colab": {
          "base_uri": "https://localhost:8080/"
        },
        "id": "X9iW7OVP7xWB",
        "outputId": "70651451-7bef-4406-da34-e4cff4e53d9f"
      },
      "execution_count": null,
      "outputs": [
        {
          "output_type": "stream",
          "name": "stdout",
          "text": [
            "2\n",
            "4\n",
            "6\n",
            "8\n"
          ]
        }
      ]
    },
    {
      "cell_type": "markdown",
      "source": [
        "## 2. Durch Listen iterieren\n",
        "\n",
        "Die Variable `zahl`repraesentiert jedes Element in der Liste."
      ],
      "metadata": {
        "id": "zE51YIuE8et_"
      }
    },
    {
      "cell_type": "code",
      "source": [
        "zahlen = [10, 20, 30, 40]\n",
        "\n",
        "for zahl in zahlen:\n",
        "    print(zahl * 30)\n"
      ],
      "metadata": {
        "colab": {
          "base_uri": "https://localhost:8080/"
        },
        "id": "JHAl7Q-T825s",
        "outputId": "594417fd-33db-4c14-ff8d-6ed492eac885"
      },
      "execution_count": null,
      "outputs": [
        {
          "output_type": "stream",
          "name": "stdout",
          "text": [
            "300\n",
            "600\n",
            "900\n",
            "1200\n"
          ]
        }
      ]
    },
    {
      "cell_type": "markdown",
      "source": [
        "## 3. Durch Strings iterieren"
      ],
      "metadata": {
        "id": "WodpCJkB9gF5"
      }
    },
    {
      "cell_type": "code",
      "source": [
        "word = \"Python\"\n",
        "\n",
        "for character in word:\n",
        "    print(character)\n"
      ],
      "metadata": {
        "colab": {
          "base_uri": "https://localhost:8080/"
        },
        "id": "6Z573Oy-9on4",
        "outputId": "11062bee-07e8-4cff-aac3-f24d4091943f"
      },
      "execution_count": null,
      "outputs": [
        {
          "output_type": "stream",
          "name": "stdout",
          "text": [
            "P\n",
            "y\n",
            "t\n",
            "h\n",
            "o\n",
            "n\n"
          ]
        }
      ]
    },
    {
      "cell_type": "markdown",
      "source": [
        "## 4. Indizes mit `enumerate()`"
      ],
      "metadata": {
        "id": "-pq8-jZI-Ftu"
      }
    },
    {
      "cell_type": "code",
      "source": [
        "zahlen = [10, 20, 30, 40]\n",
        "\n",
        "for index, wert in enumerate(zahlen):\n",
        "    print(f\"Index {index}: Wert {wert}\")\n"
      ],
      "metadata": {
        "colab": {
          "base_uri": "https://localhost:8080/"
        },
        "id": "ZFMHVsBQ-Ui-",
        "outputId": "08183045-9af2-4450-f6ae-fe967d9cc2f0"
      },
      "execution_count": null,
      "outputs": [
        {
          "output_type": "stream",
          "name": "stdout",
          "text": [
            "Index 0: Wert 10\n",
            "Index 1: Wert 20\n",
            "Index 2: Wert 30\n",
            "Index 3: Wert 40\n"
          ]
        }
      ]
    },
    {
      "cell_type": "markdown",
      "source": [
        "5. Durch `dict` iterieren"
      ],
      "metadata": {
        "id": "kRDVDZRY-s4U"
      }
    },
    {
      "cell_type": "code",
      "source": [
        "student = {\"Name\": \"Anna\", \"Alter\": 25, \"Kurs\": \"Python\"}\n",
        "\n",
        "for schluessel in student:\n",
        "    print(schluessel, \"->\", student[schluessel])\n"
      ],
      "metadata": {
        "colab": {
          "base_uri": "https://localhost:8080/"
        },
        "id": "jkl6afir-wAf",
        "outputId": "210671a2-5948-4653-90e4-dd03947e8937"
      },
      "execution_count": null,
      "outputs": [
        {
          "output_type": "stream",
          "name": "stdout",
          "text": [
            "Name -> Anna\n",
            "Alter -> 25\n",
            "Kurs -> Python\n"
          ]
        }
      ]
    },
    {
      "cell_type": "code",
      "source": [
        "# Beispiel-Dictionary für einen Studenten\n",
        "student = {\"Name\": \"Anna\", \"Alter\": 25, \"Kurs\": \"Python\"}\n",
        "\n",
        "# Schleife, die durch die Schlüssel-Wert-Paare des Dictionaries geht und sie ausgibt\n",
        "for schluessel, wert in student.items():\n",
        "    print(f\"{schluessel}: {wert}\")\n"
      ],
      "metadata": {
        "id": "6ykJg4MJOvYz",
        "outputId": "7e4b561b-09df-479f-a88a-5702bc5bb82d",
        "colab": {
          "base_uri": "https://localhost:8080/"
        }
      },
      "execution_count": null,
      "outputs": [
        {
          "output_type": "stream",
          "name": "stdout",
          "text": [
            "Name: Anna\n",
            "Alter: 25\n",
            "Kurs: Python\n"
          ]
        }
      ]
    },
    {
      "cell_type": "markdown",
      "source": [
        "## 6. Durch Mengen (`set`) iterieren\n",
        "Mengen (`set`) speichern Elemente ohne bestimmte Reihenfolge und ohne Duplikate"
      ],
      "metadata": {
        "id": "urSIrPXN_VF9"
      }
    },
    {
      "cell_type": "code",
      "source": [
        "farben = {\"rot\", \"blau\", \"grün\"}\n",
        "\n",
        "for farbe in farben:\n",
        "    print(farbe)\n"
      ],
      "metadata": {
        "colab": {
          "base_uri": "https://localhost:8080/"
        },
        "id": "6aQSJbtz_qqI",
        "outputId": "706b3781-a7b3-44ad-a823-fcca8b838713"
      },
      "execution_count": null,
      "outputs": [
        {
          "output_type": "stream",
          "name": "stdout",
          "text": [
            "rot\n",
            "blau\n",
            "grün\n"
          ]
        }
      ]
    },
    {
      "cell_type": "markdown",
      "source": [
        "## 7. List Comprehensions\n",
        "\n",
        "Wenn man eine neue transformierte Liste erstellen moechte, benutzt man sehr oft List Comprehensions."
      ],
      "metadata": {
        "id": "GNRk7ocD_pD5"
      }
    },
    {
      "cell_type": "code",
      "source": [
        "zahlen = [1, 2, 3, 4, 5, 6, 7, 8, 9]\n",
        "quadrate = [x**2 for x in zahlen]\n",
        "print(zahlen)\n",
        "print(quadrate)"
      ],
      "metadata": {
        "id": "dflZwvB6UbzF",
        "outputId": "f92e4924-a7b1-4c34-cca6-51b96f7294bf",
        "colab": {
          "base_uri": "https://localhost:8080/"
        }
      },
      "execution_count": null,
      "outputs": [
        {
          "output_type": "stream",
          "name": "stdout",
          "text": [
            "zahlen [1, 2, 3, 4, 5, 6, 7, 8, 9]\n",
            "[1, 4, 9, 16, 25, 36, 49, 64, 81]\n"
          ]
        }
      ]
    },
    {
      "cell_type": "code",
      "source": [
        "zahlen = [1, 2, 3, 4, 5, 6, 7, 8, 9]\n",
        "qubic = [x**3 for x in zahlen]\n",
        "print(\"zahlen\", zahlen)\n",
        "print(qubic, \"qubic\")"
      ],
      "metadata": {
        "colab": {
          "base_uri": "https://localhost:8080/"
        },
        "id": "rJR660DOAnFm",
        "outputId": "ff2d4db8-6b35-49dd-f480-cf41966df686"
      },
      "execution_count": null,
      "outputs": [
        {
          "output_type": "stream",
          "name": "stdout",
          "text": [
            "zahlen [1, 2, 3, 4, 5, 6, 7, 8, 9]\n",
            "[1, 8, 27, 64, 125, 216, 343, 512, 729] qubic\n"
          ]
        }
      ]
    },
    {
      "cell_type": "markdown",
      "source": [],
      "metadata": {
        "id": "Fesa_W0sBxOn"
      }
    },
    {
      "cell_type": "code",
      "source": [
        "# Beispiel-Daten\n",
        "zahlen = [1, 2, 3, 4, 5]\n",
        "\n",
        "# Das gleiche macht folgende Schleife:\n",
        "quadrate = []\n",
        "for x in zahlen:\n",
        "    quadrate.append(x**2)\n",
        "\n",
        "print(\"quadrat\", quadrate)\n",
        "\n"
      ],
      "metadata": {
        "colab": {
          "base_uri": "https://localhost:8080/"
        },
        "id": "tu0AsArvBCoY",
        "outputId": "a1a3df40-9904-4a90-e4a0-9ffe7ae5cefb"
      },
      "execution_count": null,
      "outputs": [
        {
          "output_type": "stream",
          "name": "stdout",
          "text": [
            "quadrat [1, 4, 9, 16, 25]\n"
          ]
        }
      ]
    },
    {
      "cell_type": "markdown",
      "source": [
        "## 8. `for` mit `else` – Eine seltene, aber coole Python-Eigenschaft\n",
        "\n",
        "Python erlaubt eine `else-Klausel nach einer for-Schleife. Diese wird nur ausgeführt, wenn die Schleife nicht durch break unterbrochen wurde:"
      ],
      "metadata": {
        "id": "Uf_bumYEBxVd"
      }
    },
    {
      "cell_type": "code",
      "source": [
        "for x in range(5):\n",
        "    if x == 3:\n",
        "        print(\"Gefunden!\")\n",
        "        break\n",
        "else:\n",
        "    print(\"Nicht gefunden!\")  # Wird nur ausgeführt, wenn `break` nicht erreicht wurde\n"
      ],
      "metadata": {
        "colab": {
          "base_uri": "https://localhost:8080/"
        },
        "id": "0wKgUehhCDoi",
        "outputId": "22362e1a-b7d2-4288-a5fd-66af9b3792c2"
      },
      "execution_count": null,
      "outputs": [
        {
          "output_type": "stream",
          "name": "stdout",
          "text": [
            "Gefunden!\n"
          ]
        }
      ]
    },
    {
      "cell_type": "code",
      "source": [
        "for x in range(5):\n",
        "    if x == 2.1:\n",
        "        print(\"Gefunden!\")\n",
        "        break\n",
        "else:\n",
        "    print(\"Not fond!\")  # Wird nur ausgeführt, wenn `break` nicht erreicht wurde\n"
      ],
      "metadata": {
        "colab": {
          "base_uri": "https://localhost:8080/"
        },
        "id": "nZi67Y9fCLzO",
        "outputId": "0f87e61c-6117-40c5-d64b-36afaa2b17a3"
      },
      "execution_count": null,
      "outputs": [
        {
          "output_type": "stream",
          "name": "stdout",
          "text": [
            "Not fond!\n"
          ]
        }
      ]
    }
  ]
}