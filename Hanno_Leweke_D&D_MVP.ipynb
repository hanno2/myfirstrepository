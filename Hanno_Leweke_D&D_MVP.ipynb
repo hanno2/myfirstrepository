{
  "nbformat": 4,
  "nbformat_minor": 0,
  "metadata": {
    "colab": {
      "provenance": [],
      "include_colab_link": true
    },
    "kernelspec": {
      "name": "python3",
      "display_name": "Python 3"
    },
    "language_info": {
      "name": "python"
    }
  },
  "cells": [
    {
      "cell_type": "markdown",
      "metadata": {
        "id": "view-in-github",
        "colab_type": "text"
      },
      "source": [
        "<a href=\"https://colab.research.google.com/github/hanno2/myfirstrepository/blob/main/Hanno_Leweke_D%26D_MVP.ipynb\" target=\"_parent\"><img src=\"https://colab.research.google.com/assets/colab-badge.svg\" alt=\"Open In Colab\"/></a>"
      ]
    },
    {
      "cell_type": "markdown",
      "source": [
        "# 🏰 D&D Abenteuer\n",
        "## Die verborgene Sprache der Götter\n",
        "In den dampfenden Regenwäldern der Smaragdküste liegt das Königreich Bytea, eine blühende Zivilisation, in der sich Magie und Technologie vermischen. Die Menschen hier verehren die alten Kodex-Götter, deren Schriften in einer vergessenen Sprache verfasst sind – einer Sprache, von der es heißt, sie könne den Geist erleuchten und das Universum formen. Doch nur wenige sind in der Lage, diese Sprache zu entziffern.\n",
        "\n",
        "Seit Jahrhunderten herrscht Frieden, doch dunkle Mächte drohen, das Gleichgewicht zu stören. Der uralte Bug-König Segfault, ein korrupter Magier, der einst ein brillanter Gelehrter der Kodex-Götter war, hat das sagenumwobene Script der unendlichen Schleife gestohlen. Mit diesem Artefakt kann er das Gefüge der Realität verzerren und die Zeit in ewiger Wiederholung fangen.\n",
        "\n",
        "Eine Prophezeiung besagt, dass nur jene, die das verlorene Wissen der Kodex-Götter meistern, Segfault aufhalten können. Und hier beginnt eure Reise.\n"
      ],
      "metadata": {
        "id": "rC0ulGGrX2BD"
      }
    },
    {
      "cell_type": "markdown",
      "source": [
        "## Kapitel 1\n"
      ],
      "metadata": {
        "id": "0-Dhzgg7zMrD"
      }
    },
    {
      "cell_type": "markdown",
      "source": [
        "### 🔹 Was werden wir anwenden?\n",
        "1. **Charaktere erstellen** (Variablen, Dictionaries, input())\n",
        "2. **Würfelsystem & Kampf** (random, Schleifen, Funktionen)\n",
        "3. **Erkundung & Zufallsereignisse** (Listen, Verzweigungen)\n",
        "4. **Inventar & Items** (Listen, Manipulation)\n",
        "5. **Eine Quest mit Entscheidungen** (if-elif-else, Verzweigungen)\n",
        "\n",
        "Lass uns anfangen! 🎲"
      ],
      "metadata": {
        "id": "vNVRmTN1X9Z7"
      }
    },
    {
      "cell_type": "markdown",
      "source": [
        "## 🎭 1. Charaktererstellung\n",
        "Unser Charakter soll folgende Attribute haben\n",
        "```python\n",
        "character = {\n",
        "  \"name\": input\n",
        "  \"klasse\": input\n",
        "  \"spezies\": input\n",
        "  \"Geschick\": random(5,20)\n",
        "  \"Intelligenz\": random(5,20)\n",
        "  \"Stärke\": random(5,20)\n",
        "  \"HP\": 20\n",
        "}\n"
      ],
      "metadata": {
        "id": "trQFt6lcYP-_"
      }
    },
    {
      "cell_type": "code",
      "source": [
        "import random\n",
        "\n",
        "# Charakter erstellen\n",
        "charakter = {\n",
        "    \"Name\": input(\"Gib den Namen deines Charakters ein: \"),\n",
        "    \"Klasse\": input(\"Gib die Klasse deines Charakters ein (z.B. Krieger, Magier): \"),\n",
        "    \"Spezies\": input(\"Gib die Spezies deines Charakters ein (z.B. Mensch, Elf): \"),\n",
        "    \"Geschick\": random.randint(5, 20),\n",
        "    \"Intelligenz\": random.randint(5, 20),\n",
        "    \"Stärke\": random.randint(5, 20),\n",
        "    \"HP\": 20\n",
        "}\n",
        "\n",
        "print(\"\\nCharakter erstellt:\")\n",
        "print(\"Name:\", charakter[\"Name\"])\n",
        "print(\"Klasse:\", charakter[\"Klasse\"])\n",
        "print(\"Spezies:\", charakter[\"Spezies\"])\n",
        "print(\"Geschick:\", charakter[\"Geschick\"])\n",
        "print(\"Intelligenz:\", charakter[\"Intelligenz\"])\n",
        "print(\"Stärke:\", charakter[\"Stärke\"])\n",
        "print(\"Lebenspunkte (HP):\", charakter[\"HP\"])\n"
      ],
      "metadata": {
        "colab": {
          "base_uri": "https://localhost:8080/"
        },
        "id": "Z5wOgF19fFZH",
        "outputId": "11975bd4-738a-4454-d359-909f720b44c8"
      },
      "execution_count": 1,
      "outputs": [
        {
          "output_type": "stream",
          "name": "stdout",
          "text": [
            "Gib den Namen deines Charakters ein: HP\n",
            "Gib die Klasse deines Charakters ein (z.B. Krieger, Magier): Magier\n",
            "Gib die Spezies deines Charakters ein (z.B. Mensch, Elf): Mensch\n",
            "\n",
            "Charakter erstellt:\n",
            "Name: HP\n",
            "Klasse: Magier\n",
            "Spezies: Mensch\n",
            "Geschick: 15\n",
            "Intelligenz: 12\n",
            "Stärke: 17\n",
            "Lebenspunkte (HP): 20\n"
          ]
        }
      ]
    },
    {
      "cell_type": "code",
      "source": [
        "import random\n",
        "\n",
        "inventory_list = [\n",
        "    \"⚔️ Rostiges Eisenschwert\",\n",
        "    \"🛡️ Klapprige Holzrüstung\",\n",
        "    \"🪵 Durchlöchertes Holzschild\",\n",
        "    \"🔪 Stumpfes Messer\",\n",
        "    \"🧪 Abgelaufener Lebenstrank\",\n",
        "    \"🍵 Schimmeliger Zaubertrank\",\n",
        "    \"💀 Stinkender Heiltrank\"\n",
        "]\n",
        "\n",
        "def create_character():\n",
        "  print(\"🎭 Erstelle deinen Charakter\")\n",
        "  name = input(\"Wie heißt dein Held? \")\n",
        "  klasse = input(\"Was ist deine Klasse? \")\n",
        "  spezies = input(\"Was ist deine Spezies? \")\n",
        "  character = {\n",
        "      \"Name\": name,\n",
        "      \"Klasse\": klasse,\n",
        "      \"Spezies\": spezies,\n",
        "      \"Angriff\": random.randint(5, 20),\n",
        "      \"HP\": 20,\n",
        "      \"Inventar\": random.choices(inventory_list, k=2)\n",
        "  }\n",
        "  #print(f\"Dein Charakter wurde erstellt!\")\n",
        "  return character\n",
        "\n",
        "player = create_character()\n",
        "# print(f\"Mein Name ist {player['Name']}, dabei bin ich von der Klasse {player['Klasse']} und habe {player['Stärke']} Stärke\")\n",
        "#print(player[\"Name\"])\n",
        "print(\"\\nDein Charakter:\")\n",
        "for key, value in player.items():\n",
        "  print(f\"{key}: {value}\")"
      ],
      "metadata": {
        "colab": {
          "base_uri": "https://localhost:8080/"
        },
        "id": "FQXrKmLCYcd1",
        "outputId": "e7a2b303-ec99-4b4f-c638-d8ef021f6e89"
      },
      "execution_count": 2,
      "outputs": [
        {
          "output_type": "stream",
          "name": "stdout",
          "text": [
            "🎭 Erstelle deinen Charakter\n",
            "Wie heißt dein Held? HP\n",
            "Was ist deine Klasse? Magier\n",
            "Was ist deine Spezies? Mensch\n",
            "\n",
            "Dein Charakter:\n",
            "Name: HP\n",
            "Klasse: Magier\n",
            "Spezies: Mensch\n",
            "Angriff: 5\n",
            "HP: 20\n",
            "Inventar: ['🪵 Durchlöchertes Holzschild', '🛡️ Klapprige Holzrüstung']\n"
          ]
        }
      ]
    },
    {
      "cell_type": "markdown",
      "source": [
        "## 💀 2. Gegnererstellung\n",
        "- Dictionary\n",
        "```python\n",
        "enemy_list = [\n",
        "  {\"Name\": \"stinkender Ork\", \"Angriff\": random(5,15), \"HP\": random(5,20)},\n",
        "  {\"Name\": \"windige Schlange\", \"Angriff\": random(5,15), \"HP\": random(5,20)},\n",
        "  {\"Name\": \"runzeliges Warzenschwein\", \"Angriff\": random(5,15), \"HP\": random(5,20)},\n",
        "  {\"Name\": \"winziger Goblin\", \"Angriff\": random(5,15), \"HP\": random(5,20)}\n",
        "   ]\n",
        "```\n",
        "- Liste an Gegnern\n",
        "- Funktion mit zufälliger Wahl an Gegnern"
      ],
      "metadata": {
        "id": "fMvEyO8pYclV"
      }
    },
    {
      "cell_type": "code",
      "source": [
        "import random\n",
        "\n",
        "# Gegnerliste erstellen\n",
        "enemy_list = [\n",
        "    {\"Name\": \"stinkender Ork\", \"Angriff\": random.randint(5, 15), \"HP\": random.randint(5, 20)},\n",
        "    {\"Name\": \"windige Schlange\", \"Angriff\": random.randint(5, 15), \"HP\": random.randint(5, 20)},\n",
        "    {\"Name\": \"runzeliges Warzenschwein\", \"Angriff\": random.randint(5, 15), \"HP\": random.randint(5, 20)},\n",
        "    {\"Name\": \"winziger Goblin\", \"Angriff\": random.randint(5, 15), \"HP\": random.randint(5, 20)}\n",
        "]\n",
        "\n",
        "# Funktion, um zufällig einen Gegner auszuwählen\n",
        "def wähle_zufallsgegner(enemy_list):\n",
        "    return random.choice(enemy_list)\n",
        "\n",
        "# Zufälligen Gegner auswählen\n",
        "zufallsgegner = wähle_zufallsgegner(enemy_list)\n",
        "\n",
        "print(\"\\nEin Gegner erscheint!\")\n",
        "print(\"Name:\", zufallsgegner[\"Name\"])\n",
        "print(\"Angriff:\", zufallsgegner[\"Angriff\"])\n",
        "print(\"Lebenspunkte (HP):\", zufallsgegner[\"HP\"])\n"
      ],
      "metadata": {
        "colab": {
          "base_uri": "https://localhost:8080/"
        },
        "id": "LKxShnc6gU-2",
        "outputId": "3eaeb10e-bf76-401d-f0a2-c1ec6f856993"
      },
      "execution_count": 4,
      "outputs": [
        {
          "output_type": "stream",
          "name": "stdout",
          "text": [
            "\n",
            "Ein Gegner erscheint!\n",
            "Name: runzeliges Warzenschwein\n",
            "Angriff: 10\n",
            "Lebenspunkte (HP): 10\n"
          ]
        }
      ]
    },
    {
      "cell_type": "code",
      "source": [
        "import random\n",
        "\n",
        "enemy_list = [\n",
        "  {\"Name\": \"🤢👹 stinkender Ork\", \"Angriff\": random.randint(5,15), \"HP\": random.randint(5,20)},\n",
        "  {\"Name\": \"🐍💨 windige Schlange\", \"Angriff\": random.randint(5,15), \"HP\": random.randint(5,20)},\n",
        "  {\"Name\": \"🐗🧐 runzeliges Warzenschwein\", \"Angriff\": random.randint(5,15), \"HP\": random.randint(5,20)},\n",
        "  {\"Name\": \"🧌🔍 winziger Goblin\", \"Angriff\": random.randint(5,15), \"HP\": random.randint(5,20)}\n",
        "   ]\n",
        "\n",
        "def create_enemy():\n",
        "  enemy = random.choice(enemy_list).copy()\n",
        "  return enemy\n",
        "\n",
        "enemy1 = create_enemy()\n",
        "for key, value in enemy1.items():\n",
        "  print(f\"{key}: {value}\")"
      ],
      "metadata": {
        "colab": {
          "base_uri": "https://localhost:8080/"
        },
        "id": "e_aWWYZmYskN",
        "outputId": "63ed8e74-8b45-40fc-950a-a69740e11dde"
      },
      "execution_count": 3,
      "outputs": [
        {
          "output_type": "stream",
          "name": "stdout",
          "text": [
            "Name: 🤢👹 stinkender Ork\n",
            "Angriff: 7\n",
            "HP: 19\n"
          ]
        }
      ]
    },
    {
      "cell_type": "markdown",
      "source": [
        "## 🎲 3. Würfelsystem"
      ],
      "metadata": {
        "id": "6SxV82BDYsrR"
      }
    },
    {
      "cell_type": "code",
      "source": [
        "import random\n",
        "\n",
        "def dice(sides):\n",
        "  return random.randint(1,sides)\n",
        "\n",
        "seiten = 8\n",
        "print(dice(seiten))"
      ],
      "metadata": {
        "colab": {
          "base_uri": "https://localhost:8080/"
        },
        "id": "WSvgWbmaY0FZ",
        "outputId": "ffda43cf-bab1-4597-9a7a-efe20434ad21"
      },
      "execution_count": 5,
      "outputs": [
        {
          "output_type": "stream",
          "name": "stdout",
          "text": [
            "3\n"
          ]
        }
      ]
    },
    {
      "cell_type": "code",
      "source": [
        "import random\n",
        "\n",
        "def dice(sides):\n",
        "    return random.randint(1, sides)\n",
        "\n",
        "seiten = 8\n",
        "print(\"Das Würfelergebnis für einen Würfel mit\", seiten, \"Seiten ist:\", dice(seiten))\n"
      ],
      "metadata": {
        "colab": {
          "base_uri": "https://localhost:8080/"
        },
        "id": "obUcmwb7g-Um",
        "outputId": "a808a754-0db7-4a8a-e2fe-33a36a9a1425"
      },
      "execution_count": 6,
      "outputs": [
        {
          "output_type": "stream",
          "name": "stdout",
          "text": [
            "Das Würfelergebnis für einen Würfel mit 8 Seiten ist: 6\n"
          ]
        }
      ]
    },
    {
      "cell_type": "markdown",
      "source": [
        "## ⚔️ 4. Kampf\n",
        "- Funktion zwischen Gegner und Spieler\n",
        "- Solange beide noch HP haben, soll der Schaden ausgewürfelt werden"
      ],
      "metadata": {
        "id": "t5hFyY0HY0ND"
      }
    },
    {
      "cell_type": "code",
      "source": [
        "#player2 = create_character()\n",
        "#enemy2 = create_enemy()\n",
        "#print(enemy2)\n",
        "def kampf(character, enemy):\n",
        "  print(f\"Du kämpfst gegen {enemy['Name']}\")\n",
        "\n",
        "  while character[\"HP\"] > 0 and enemy[\"HP\"] > 0:\n",
        "    # charakter greift an\n",
        "    input(\"Drücke ENTER zum würfelnss\")\n",
        "    schaden = dice(6)\n",
        "    print(f\"{character['Name']} würfelt: {schaden}\")\n",
        "    print(f\"{enemy['Name']} nimmt {schaden} Schaden\")\n",
        "\n",
        "    enemy[\"HP\"] -= schaden\n",
        "    print(f\"{enemy['Name']} hat nun {enemy['HP']} HP\")\n",
        "\n",
        "    # Überprüfen ob der Gegner besiegt wurde\n",
        "    if enemy[\"HP\"] <= 0:\n",
        "      print(\"Du hast gewonnen\")\n",
        "      break\n",
        "\n",
        "    schaden_gegner = dice(4)\n",
        "    character[\"HP\"] -= schaden_gegner\n",
        "    print(f\"Dein {character['Name']} hat nun {character['HP']} HP\")\n",
        "    print(f\"{enemy['Name']} würfelt: {schaden}\")\n",
        "    print(f\"{character['Name']} nimmt {schaden} Schaden\")\n",
        "    print(\"-------------------\")\n",
        "\n",
        "    if character[\"HP\"] <= 0:\n",
        "      print(\"Charakter wurde besiegt!\")\n",
        "      break\n",
        "\n",
        "##kampf(player, enemy2)\n"
      ],
      "metadata": {
        "id": "as-4WLP1ZRvN"
      },
      "execution_count": null,
      "outputs": []
    },
    {
      "cell_type": "code",
      "source": [
        "import random\n",
        "\n",
        "# Funktion zum Würfeln\n",
        "def dice(sides):\n",
        "    return random.randint(1, sides)\n",
        "\n",
        "# Charakter erstellen\n",
        "def create_character():\n",
        "    return {\n",
        "        \"Name\": input(\"Gib den Namen deines Charakters ein: \"),\n",
        "        \"Klasse\": input(\"Gib die Klasse deines Charakters ein (z.B. Krieger, Magier): \"),\n",
        "        \"Spezies\": input(\"Gib die Spezies deines Charakters ein (z.B. Mensch, Elf): \"),\n",
        "        \"Geschick\": random.randint(5, 20),\n",
        "        \"Intelligenz\": random.randint(5, 20),\n",
        "        \"Stärke\": random.randint(5, 20),\n",
        "        \"HP\": 20\n",
        "    }\n",
        "\n",
        "# Gegner erstellen\n",
        "def create_enemy():\n",
        "    enemy_list = [\n",
        "        {\"Name\": \"stinkender Ork\", \"Angriff\": random.randint(5, 15), \"HP\": random.randint(5, 20)},\n",
        "        {\"Name\": \"windige Schlange\", \"Angriff\": random.randint(5, 15), \"HP\": random.randint(5, 20)},\n",
        "        {\"Name\": \"runzeliges Warzenschwein\", \"Angriff\": random.randint(5, 15), \"HP\": random.randint(5, 20)},\n",
        "        {\"Name\": \"winziger Goblin\", \"Angriff\": random.randint(5, 15), \"HP\": random.randint(5, 20)}\n",
        "    ]\n",
        "    return random.choice(enemy_list)\n",
        "\n",
        "# Kampf zwischen Charakter und Gegner\n",
        "def kampf(character, enemy):\n",
        "    print(f\"Du kämpfst gegen {enemy['Name']}\")\n",
        "\n",
        "    while character[\"HP\"] > 0 and enemy[\"HP\"] > 0:\n",
        "        # Charakter greift an\n",
        "        input(\"zum Würfeln Drücke ENTER\")\n",
        "        schaden = dice(6)\n",
        "        print(f\"{character['Name']} würfelt: {schaden}\")\n",
        "        print(f\"{enemy['Name']} nimmt {schaden} Schaden\")\n",
        "\n",
        "        enemy[\"HP\"] -= schaden\n",
        "        print(f\"{enemy['Name']} hat nun {enemy['HP']} HP\")\n",
        "\n",
        "        # Überprüfen, ob der Gegner besiegt wurde\n",
        "        if enemy[\"HP\"] <= 0:\n",
        "            print(\"Du hast gewonnen!\")\n",
        "            break\n",
        "\n",
        "        # Gegner greift an\n",
        "        schaden_gegner = dice(4)\n",
        "        character[\"HP\"] -= schaden_gegner\n",
        "        print(f\"{enemy['Name']} würfelt: {schaden_gegner}\")\n",
        "        print(f\"{character['Name']} nimmt {schaden_gegner} Schaden\")\n",
        "        print(f\"Dein {character['Name']} hat nun {character['HP']} HP\")\n",
        "        print(\"-------------------\")\n",
        "\n",
        "        if character[\"HP\"] <= 0:\n",
        "            print(\"Du wurdest besiegt!\")\n",
        "            break\n",
        "\n",
        "# Beispielausführung\n",
        "player2 = create_character()\n",
        "enemy2 = create_enemy()\n",
        "print(enemy2)\n",
        "kampf(player2, enemy2)\n"
      ],
      "metadata": {
        "colab": {
          "base_uri": "https://localhost:8080/"
        },
        "id": "UUi1L2u1hiTv",
        "outputId": "d99cad24-9e4a-4515-b2c8-513f73769302"
      },
      "execution_count": 8,
      "outputs": [
        {
          "output_type": "stream",
          "name": "stdout",
          "text": [
            "Gib den Namen deines Charakters ein: HP\n",
            "Gib die Klasse deines Charakters ein (z.B. Krieger, Magier): Magier\n",
            "Gib die Spezies deines Charakters ein (z.B. Mensch, Elf): Mensch\n",
            "{'Name': 'runzeliges Warzenschwein', 'Angriff': 14, 'HP': 19}\n",
            "Du kämpfst gegen runzeliges Warzenschwein\n",
            "zum Würfeln Drücke ENTER\n",
            "HP würfelt: 6\n",
            "runzeliges Warzenschwein nimmt 6 Schaden\n",
            "runzeliges Warzenschwein hat nun 13 HP\n",
            "runzeliges Warzenschwein würfelt: 1\n",
            "HP nimmt 1 Schaden\n",
            "Dein HP hat nun 19 HP\n",
            "-------------------\n",
            "zum Würfeln Drücke ENTER\n",
            "HP würfelt: 5\n",
            "runzeliges Warzenschwein nimmt 5 Schaden\n",
            "runzeliges Warzenschwein hat nun 8 HP\n",
            "runzeliges Warzenschwein würfelt: 2\n",
            "HP nimmt 2 Schaden\n",
            "Dein HP hat nun 17 HP\n",
            "-------------------\n",
            "zum Würfeln Drücke ENTER\n",
            "HP würfelt: 3\n",
            "runzeliges Warzenschwein nimmt 3 Schaden\n",
            "runzeliges Warzenschwein hat nun 5 HP\n",
            "runzeliges Warzenschwein würfelt: 2\n",
            "HP nimmt 2 Schaden\n",
            "Dein HP hat nun 15 HP\n",
            "-------------------\n",
            "zum Würfeln Drücke ENTER\n",
            "HP würfelt: 5\n",
            "runzeliges Warzenschwein nimmt 5 Schaden\n",
            "runzeliges Warzenschwein hat nun 0 HP\n",
            "Du hast gewonnen!\n"
          ]
        }
      ]
    },
    {
      "cell_type": "markdown",
      "source": [
        "## 5. Inventar und Gegenstände\n",
        "- Inventar hinzufügen"
      ],
      "metadata": {
        "id": "XrBYELFJaYAR"
      }
    },
    {
      "cell_type": "code",
      "source": [
        "# Inventar initialisieren\n",
        "charakter[\"Inventar\"] = []\n",
        "\n",
        "# Funktion zum Hinzufügen eines Gegenstands\n",
        "def füge_gegenstand_hinzu(charakter, gegenstand):\n",
        "    charakter[\"Inventar\"].append(gegenstand)\n",
        "    print(f\"{gegenstand} wurde deinem Inventar hinzugefügt.\")\n",
        "\n",
        "# Funktion zum Anzeigen des Inventars\n",
        "def zeige_inventar(charakter):\n",
        "    print(\"\\nInventar:\")\n",
        "    for item in charakter[\"Inventar\"]:\n",
        "        print(f\"- {item}\")\n",
        "\n",
        "# Beispielgegenstände hinzufügen\n",
        "füge_gegenstand_hinzu(charakter, \"Heiltrank\")\n",
        "füge_gegenstand_hinzu(charakter, \"Schwert\")\n",
        "füge_gegenstand_hinzu(charakter, \"Magisches Amulett\")\n",
        "\n",
        "# Inventar anzeigen\n",
        "zeige_inventar(charakter)\n"
      ],
      "metadata": {
        "id": "EsPD1ZNbafLm",
        "colab": {
          "base_uri": "https://localhost:8080/"
        },
        "outputId": "f6dc43eb-e3be-4323-9051-1cedf5de0b9d"
      },
      "execution_count": 9,
      "outputs": [
        {
          "output_type": "stream",
          "name": "stdout",
          "text": [
            "Heiltrank wurde deinem Inventar hinzugefügt.\n",
            "Schwert wurde deinem Inventar hinzugefügt.\n",
            "Magisches Amulett wurde deinem Inventar hinzugefügt.\n",
            "\n",
            "Inventar:\n",
            "- Heiltrank\n",
            "- Schwert\n",
            "- Magisches Amulett\n"
          ]
        }
      ]
    },
    {
      "cell_type": "markdown",
      "source": [
        "## 6. Erkundung und Zufallsereignisse\n",
        "- Dictionary mit zufälligen Erkundungen und jeweils ausgeführten Funktionen"
      ],
      "metadata": {
        "id": "cGAUQnZ9ZR1f"
      }
    },
    {
      "cell_type": "code",
      "source": [
        "import random\n",
        "\n",
        "# Funktionen für Erkundungen\n",
        "def finde_schatz(charakter):\n",
        "    schatz = [\"Goldmünzen\", \"Edelstein\", \"Antikes Schwert\"]\n",
        "    gefundener_schatz = random.choice(schatz)\n",
        "    charakter[\"Inventar\"].append(gefundener_schatz)\n",
        "    print(f\"Du hast einen {gefundener_schatz} gefunden und in dein Inventar gelegt!\")\n",
        "\n",
        "def monster_angriff(charakter):\n",
        "    schaden = dice(8)\n",
        "    charakter[\"HP\"] -= schaden\n",
        "    print(f\"Ein Monster greift dich an und verursacht {schaden} Schaden. Deine HP sind nun {charakter['HP']}.\")\n",
        "\n",
        "def triff_wanderer(charakter):\n",
        "    heilung = dice(4)\n",
        "    charakter[\"HP\"] += heilung\n",
        "    print(f\"Du triffst einen freundlichen Wanderer, der dir einen Heiltrank gibt. Du regenerierst {heilung} HP. Deine HP sind nun {charakter['HP']}.\")\n",
        "\n",
        "# Dictionary mit Erkundungen und den zugehörigen Funktionen\n",
        "erkundungen = {\n",
        "    \"Wald\": finde_schatz,\n",
        "    \"Berg\": monster_angriff,\n",
        "    \"Fluss\": triff_wanderer,\n",
        "    \"Dorf\": finde_schatz\n",
        "}\n",
        "\n",
        "# Zufällige Erkundung auswählen und Funktion ausführen\n",
        "def erkunden(charakter):\n",
        "    ort = random.choice(list(erkundungen.keys()))\n",
        "    print(f\"Du erkundest einen {ort}.\")\n",
        "    erkundungen[ort](charakter)\n",
        "\n",
        "# Beispielausführung\n",
        "charakter = {\n",
        "    \"Name\": \"Abenteurer\",\n",
        "    \"Klasse\": \"Krieger\",\n",
        "    \"Spezies\": \"Mensch\",\n",
        "    \"Geschick\": 10,\n",
        "    \"Intelligenz\": 12,\n",
        "    \"Stärke\": 15,\n",
        "    \"HP\": 20,\n",
        "    \"Inventar\": []\n",
        "}\n",
        "\n",
        "erkunden(charakter)\n",
        "zeige_inventar(charakter)\n"
      ],
      "metadata": {
        "id": "wtdj0Gcbaesq",
        "colab": {
          "base_uri": "https://localhost:8080/"
        },
        "outputId": "597e729e-9e8b-437e-d872-2f15943dab07"
      },
      "execution_count": 10,
      "outputs": [
        {
          "output_type": "stream",
          "name": "stdout",
          "text": [
            "Du erkundest einen Fluss.\n",
            "Du triffst einen freundlichen Wanderer, der dir einen Heiltrank gibt. Du regenerierst 1 HP. Deine HP sind nun 21.\n",
            "\n",
            "Inventar:\n"
          ]
        }
      ]
    },
    {
      "cell_type": "markdown",
      "source": [
        "## 7. Eine Quest mit Entscheidungen\n",
        "\n"
      ],
      "metadata": {
        "id": "7bTNxlOjaftG"
      }
    },
    {
      "cell_type": "code",
      "source": [
        "import random\n",
        "print(\"GAME BEGINS\")\n",
        "print(\"Wähle zunächst einen Charakter: \")\n",
        "my_player = create_character()\n",
        "print(\"Nun beginnt deine Reise...\")\n",
        "print(\"\\nDu stehst vor einer dunklen Höhle. Was tust du?\")\n",
        "print(\"1️⃣ Gehe hinein.\")\n",
        "print(\"2️⃣ Laufe weiter.\")\n",
        "wahl = input(\"Wähle 1,2 oder 3: \")\n",
        "if wahl == \"1\":\n",
        "    print(\"Du betrittst die Höhle\")\n",
        "    first_enemy = create_enemy()\n",
        "    print(\"Huch... Ein Gegner erscheint\")\n",
        "    print(f\"{first_enemy['Name']} fordert dich zum Kampf auf\")\n",
        "    kampf(my_player, first_enemy)\n",
        "elif wahl == \"2\":\n",
        "    print(\"Du gehst weiter und findest eine sichere Stelle zum Ausruhen. 🏕️\")\n",
        "    # Inventar zur Liste hinzufügen\n",
        "    new_inventory = random.choice(inventory_list)\n",
        "    print(f\"Oha, hier liegt ein {new_inventory} rum. Heb es doch auf!\")\n",
        "    input(\"Drücke ENTER, um das aufzuheben\")\n",
        "    my_player['Inventar'].append(new_inventory)\n",
        "    print(f\"Cool, dein Inventar besteht nun aus: {my_player['Inventar']}\")\n",
        "elif wahl == \"3\":\n",
        "    # jetzt passiert noch was anderes\n",
        "    print(\"3. Wahl\")\n",
        "else:\n",
        "    print(\"Du hast nichts getan und bist stehen geblieben. 😴\")"
      ],
      "metadata": {
        "colab": {
          "base_uri": "https://localhost:8080/",
          "height": 1000
        },
        "id": "e8Afro-wPp3C",
        "outputId": "600603c2-1d6e-484c-daf2-73d9a106526b"
      },
      "execution_count": 11,
      "outputs": [
        {
          "output_type": "stream",
          "name": "stdout",
          "text": [
            "GAME BEGINS\n",
            "Wähle zunächst einen Charakter: \n",
            "Gib den Namen deines Charakters ein: hp\n",
            "Gib die Klasse deines Charakters ein (z.B. Krieger, Magier): magier\n",
            "Gib die Spezies deines Charakters ein (z.B. Mensch, Elf): mensch\n",
            "Nun beginnt deine Reise...\n",
            "\n",
            "Du stehst vor einer dunklen Höhle. Was tust du?\n",
            "1️⃣ Gehe hinein.\n",
            "2️⃣ Laufe weiter.\n",
            "Wähle 1,2 oder 3: 1\n",
            "Du betrittst die Höhle\n",
            "Huch... Ein Gegner erscheint\n",
            "stinkender Ork fordert dich zum Kampf auf\n",
            "Du kämpfst gegen stinkender Ork\n",
            "zum Würfeln Drücke ENTER\n",
            "hp würfelt: 2\n",
            "stinkender Ork nimmt 2 Schaden\n",
            "stinkender Ork hat nun 16 HP\n",
            "stinkender Ork würfelt: 4\n",
            "hp nimmt 4 Schaden\n",
            "Dein hp hat nun 16 HP\n",
            "-------------------\n",
            "zum Würfeln Drücke ENTER\n",
            "hp würfelt: 3\n",
            "stinkender Ork nimmt 3 Schaden\n",
            "stinkender Ork hat nun 13 HP\n",
            "stinkender Ork würfelt: 3\n",
            "hp nimmt 3 Schaden\n",
            "Dein hp hat nun 13 HP\n",
            "-------------------\n",
            "zum Würfeln Drücke ENTER\n",
            "hp würfelt: 5\n",
            "stinkender Ork nimmt 5 Schaden\n",
            "stinkender Ork hat nun 8 HP\n",
            "stinkender Ork würfelt: 3\n",
            "hp nimmt 3 Schaden\n",
            "Dein hp hat nun 10 HP\n",
            "-------------------\n",
            "zum Würfeln Drücke ENTER\n",
            "hp würfelt: 5\n",
            "stinkender Ork nimmt 5 Schaden\n",
            "stinkender Ork hat nun 3 HP\n",
            "stinkender Ork würfelt: 3\n",
            "hp nimmt 3 Schaden\n",
            "Dein hp hat nun 7 HP\n",
            "-------------------\n"
          ]
        },
        {
          "output_type": "error",
          "ename": "KeyboardInterrupt",
          "evalue": "Interrupted by user",
          "traceback": [
            "\u001b[0;31m---------------------------------------------------------------------------\u001b[0m",
            "\u001b[0;31mKeyboardInterrupt\u001b[0m                         Traceback (most recent call last)",
            "\u001b[0;32m<ipython-input-11-40dcdd9861e6>\u001b[0m in \u001b[0;36m<cell line: 0>\u001b[0;34m()\u001b[0m\n\u001b[1;32m     13\u001b[0m     \u001b[0mprint\u001b[0m\u001b[0;34m(\u001b[0m\u001b[0;34m\"Huch... Ein Gegner erscheint\"\u001b[0m\u001b[0;34m)\u001b[0m\u001b[0;34m\u001b[0m\u001b[0;34m\u001b[0m\u001b[0m\n\u001b[1;32m     14\u001b[0m     \u001b[0mprint\u001b[0m\u001b[0;34m(\u001b[0m\u001b[0;34mf\"{first_enemy['Name']} fordert dich zum Kampf auf\"\u001b[0m\u001b[0;34m)\u001b[0m\u001b[0;34m\u001b[0m\u001b[0;34m\u001b[0m\u001b[0m\n\u001b[0;32m---> 15\u001b[0;31m     \u001b[0mkampf\u001b[0m\u001b[0;34m(\u001b[0m\u001b[0mmy_player\u001b[0m\u001b[0;34m,\u001b[0m \u001b[0mfirst_enemy\u001b[0m\u001b[0;34m)\u001b[0m\u001b[0;34m\u001b[0m\u001b[0;34m\u001b[0m\u001b[0m\n\u001b[0m\u001b[1;32m     16\u001b[0m \u001b[0;32melif\u001b[0m \u001b[0mwahl\u001b[0m \u001b[0;34m==\u001b[0m \u001b[0;34m\"2\"\u001b[0m\u001b[0;34m:\u001b[0m\u001b[0;34m\u001b[0m\u001b[0;34m\u001b[0m\u001b[0m\n\u001b[1;32m     17\u001b[0m     \u001b[0mprint\u001b[0m\u001b[0;34m(\u001b[0m\u001b[0;34m\"Du gehst weiter und findest eine sichere Stelle zum Ausruhen. 🏕️\"\u001b[0m\u001b[0;34m)\u001b[0m\u001b[0;34m\u001b[0m\u001b[0;34m\u001b[0m\u001b[0m\n",
            "\u001b[0;32m<ipython-input-8-d78d1f330715>\u001b[0m in \u001b[0;36mkampf\u001b[0;34m(character, enemy)\u001b[0m\n\u001b[1;32m     33\u001b[0m     \u001b[0;32mwhile\u001b[0m \u001b[0mcharacter\u001b[0m\u001b[0;34m[\u001b[0m\u001b[0;34m\"HP\"\u001b[0m\u001b[0;34m]\u001b[0m \u001b[0;34m>\u001b[0m \u001b[0;36m0\u001b[0m \u001b[0;32mand\u001b[0m \u001b[0menemy\u001b[0m\u001b[0;34m[\u001b[0m\u001b[0;34m\"HP\"\u001b[0m\u001b[0;34m]\u001b[0m \u001b[0;34m>\u001b[0m \u001b[0;36m0\u001b[0m\u001b[0;34m:\u001b[0m\u001b[0;34m\u001b[0m\u001b[0;34m\u001b[0m\u001b[0m\n\u001b[1;32m     34\u001b[0m         \u001b[0;31m# Charakter greift an\u001b[0m\u001b[0;34m\u001b[0m\u001b[0;34m\u001b[0m\u001b[0m\n\u001b[0;32m---> 35\u001b[0;31m         \u001b[0minput\u001b[0m\u001b[0;34m(\u001b[0m\u001b[0;34m\"zum Würfeln Drücke ENTER\"\u001b[0m\u001b[0;34m)\u001b[0m\u001b[0;34m\u001b[0m\u001b[0;34m\u001b[0m\u001b[0m\n\u001b[0m\u001b[1;32m     36\u001b[0m         \u001b[0mschaden\u001b[0m \u001b[0;34m=\u001b[0m \u001b[0mdice\u001b[0m\u001b[0;34m(\u001b[0m\u001b[0;36m6\u001b[0m\u001b[0;34m)\u001b[0m\u001b[0;34m\u001b[0m\u001b[0;34m\u001b[0m\u001b[0m\n\u001b[1;32m     37\u001b[0m         \u001b[0mprint\u001b[0m\u001b[0;34m(\u001b[0m\u001b[0;34mf\"{character['Name']} würfelt: {schaden}\"\u001b[0m\u001b[0;34m)\u001b[0m\u001b[0;34m\u001b[0m\u001b[0;34m\u001b[0m\u001b[0m\n",
            "\u001b[0;32m/usr/local/lib/python3.11/dist-packages/ipykernel/kernelbase.py\u001b[0m in \u001b[0;36mraw_input\u001b[0;34m(self, prompt)\u001b[0m\n\u001b[1;32m    849\u001b[0m                 \u001b[0;34m\"raw_input was called, but this frontend does not support input requests.\"\u001b[0m\u001b[0;34m\u001b[0m\u001b[0;34m\u001b[0m\u001b[0m\n\u001b[1;32m    850\u001b[0m             )\n\u001b[0;32m--> 851\u001b[0;31m         return self._input_request(str(prompt),\n\u001b[0m\u001b[1;32m    852\u001b[0m             \u001b[0mself\u001b[0m\u001b[0;34m.\u001b[0m\u001b[0m_parent_ident\u001b[0m\u001b[0;34m,\u001b[0m\u001b[0;34m\u001b[0m\u001b[0;34m\u001b[0m\u001b[0m\n\u001b[1;32m    853\u001b[0m             \u001b[0mself\u001b[0m\u001b[0;34m.\u001b[0m\u001b[0m_parent_header\u001b[0m\u001b[0;34m,\u001b[0m\u001b[0;34m\u001b[0m\u001b[0;34m\u001b[0m\u001b[0m\n",
            "\u001b[0;32m/usr/local/lib/python3.11/dist-packages/ipykernel/kernelbase.py\u001b[0m in \u001b[0;36m_input_request\u001b[0;34m(self, prompt, ident, parent, password)\u001b[0m\n\u001b[1;32m    893\u001b[0m             \u001b[0;32mexcept\u001b[0m \u001b[0mKeyboardInterrupt\u001b[0m\u001b[0;34m:\u001b[0m\u001b[0;34m\u001b[0m\u001b[0;34m\u001b[0m\u001b[0m\n\u001b[1;32m    894\u001b[0m                 \u001b[0;31m# re-raise KeyboardInterrupt, to truncate traceback\u001b[0m\u001b[0;34m\u001b[0m\u001b[0;34m\u001b[0m\u001b[0m\n\u001b[0;32m--> 895\u001b[0;31m                 \u001b[0;32mraise\u001b[0m \u001b[0mKeyboardInterrupt\u001b[0m\u001b[0;34m(\u001b[0m\u001b[0;34m\"Interrupted by user\"\u001b[0m\u001b[0;34m)\u001b[0m \u001b[0;32mfrom\u001b[0m \u001b[0;32mNone\u001b[0m\u001b[0;34m\u001b[0m\u001b[0;34m\u001b[0m\u001b[0m\n\u001b[0m\u001b[1;32m    896\u001b[0m             \u001b[0;32mexcept\u001b[0m \u001b[0mException\u001b[0m \u001b[0;32mas\u001b[0m \u001b[0me\u001b[0m\u001b[0;34m:\u001b[0m\u001b[0;34m\u001b[0m\u001b[0;34m\u001b[0m\u001b[0m\n\u001b[1;32m    897\u001b[0m                 \u001b[0mself\u001b[0m\u001b[0;34m.\u001b[0m\u001b[0mlog\u001b[0m\u001b[0;34m.\u001b[0m\u001b[0mwarning\u001b[0m\u001b[0;34m(\u001b[0m\u001b[0;34m\"Invalid Message:\"\u001b[0m\u001b[0;34m,\u001b[0m \u001b[0mexc_info\u001b[0m\u001b[0;34m=\u001b[0m\u001b[0;32mTrue\u001b[0m\u001b[0;34m)\u001b[0m\u001b[0;34m\u001b[0m\u001b[0;34m\u001b[0m\u001b[0m\n",
            "\u001b[0;31mKeyboardInterrupt\u001b[0m: Interrupted by user"
          ]
        }
      ]
    },
    {
      "cell_type": "code",
      "source": [
        "import random\n",
        "\n",
        "# Funktion zum Würfeln\n",
        "def dice(sides):\n",
        "    return random.randint(1, sides)\n",
        "\n",
        "# Charakter erstellen\n",
        "def create_character():\n",
        "    return {\n",
        "        \"Name\": input(\"Gib den (Namen) deines Charakters ein: \"),\n",
        "        \"Klasse\": input(\"Gib die Klasse deines Charakters ein (z.B. Krieger, Magier): \"),\n",
        "        \"Spezies\": input(\"Gib die Spezies deines Charakters ein (z.B. Mensch, Elf): \"),\n",
        "        \"Geschick\": random.randint(5, 20),\n",
        "        \"Intelligenz\": random.randint(5, 20),\n",
        "        \"Stärke\": random.randint(5, 20),\n",
        "        \"HP\": 20,\n",
        "        \"Inventar\": []\n",
        "    }\n",
        "\n",
        "# Gegner Liste erstellen\n",
        "def create_enemy():\n",
        "    enemy_list = [\n",
        "        {\"Name\": \"stinkender Ork\", \"Angriff\": random.randint(5, 15), \"HP\": random.randint(5, 20)},\n",
        "        {\"Name\": \"windige Schlange\", \"Angriff\": random.randint(5, 15), \"HP\": random.randint(5, 20)},\n",
        "        {\"Name\": \"runzeliges Warzenschwein\", \"Angriff\": random.randint(5, 15), \"HP\": random.randint(5, 20)},\n",
        "        {\"Name\": \"winziger Goblin\", \"Angriff\": random.randint(5, 15), \"HP\": random.randint(5, 20)}\n",
        "    ]\n",
        "    return random.choice(enemy_list)\n",
        "\n",
        "# Kampf zwischen Charakter und Gegner\n",
        "def kampf(character, enemy):\n",
        "    print(f\"Du kämpfst gegen {enemy['Name']}\")\n",
        "\n",
        "    while character[\"HP\"] > 0 and enemy[\"HP\"] > 0:\n",
        "        # Charakter greift an\n",
        "        input(\"Drücke ENTER zum Würfeln\")\n",
        "        schaden = dice(6)\n",
        "        print(f\"{character['Name']} würfelt: {schaden}\")\n",
        "        print(f\"{enemy['Name']} nimmt {schaden} Schaden\")\n",
        "\n",
        "        enemy[\"HP\"] -= schaden\n",
        "        print(f\"{enemy['Name']} hat nun {enemy['HP']} HP\")\n",
        "\n",
        "        # Überprüfen, ob der Gegner besiegt wurde\n",
        "        if enemy[\"HP\"] <= 0:\n",
        "            print(\"Du hast gewonnen!\")\n",
        "            break\n",
        "\n",
        "        # Gegner greift an\n",
        "        schaden_gegner = dice(4)\n",
        "        character[\"HP\"] -= schaden_gegner\n",
        "        print(f\"{enemy['Name']} würfelt: {schaden_gegner}\")\n",
        "        print(f\"{character['Name']} nimmt {schaden_gegner} Schaden\")\n",
        "        print(f\"Dein {character['Name']} hat nun {character['HP']} HP\")\n",
        "        print(\"-------------------\")\n",
        "\n",
        "        if character[\"HP\"] <= 0:\n",
        "            print(\"Du wurdest besiegt!\")\n",
        "            break\n",
        "\n",
        "# Inventar initialisieren und Gegenstände hinzufügen\n",
        "def füge_gegenstand_hinzu(charakter, gegenstand):\n",
        "    charakter[\"Inventar\"].append(gegenstand)\n",
        "    print(f\"{gegenstand} wurde deinem Inventar hinzugefügt.\")\n",
        "\n",
        "def zeige_inventar(charakter):\n",
        "    print(\"\\nInventar:\")\n",
        "    for item in charakter[\"Inventar\"]:\n",
        "        print(f\"- {item}\")\n",
        "\n",
        "# Funktion zum Verwenden eines Gegenstands\n",
        "def verwende_gegenstand(charakter, gegenstand):\n",
        "    if gegenstand in charakter[\"Inventar\"]:\n",
        "        if gegenstand == \"Heiltrank\":\n",
        "            charakter[\"HP\"] += 20\n",
        "            print(f\"Du verwendest den {gegenstand} und regenerierst 20 Lebenspunkte.\")\n",
        "        charakter[\"Inventar\"].remove(gegenstand)\n",
        "    else:\n",
        "        print(f\"Du hast keinen {gegenstand} im Inventar.\")\n",
        "\n",
        "# Dictionary mit zufälligen Erkundungen und zugehörigen Funktionen\n",
        "def finde_schatz(charakter):\n",
        "    schatz = [\"Goldmünze\", \"Edelstein\", \"Antikes Schwert\"]\n",
        "    gefundener_schatz = random.choice(schatz)\n",
        "    charakter[\"Inventar\"].append(gefundener_schatz)\n",
        "    print(f\"Du hast ein {gefundener_schatz} gefunden und in dein Inventar gelegt!\")\n",
        "\n",
        "def monster_angriff(charakter):\n",
        "    schaden = dice(8)\n",
        "    charakter[\"HP\"] -= schaden\n",
        "    print(f\"Ein Monster greift dich an und verursacht {schaden} Schaden. Deine HP sind nun {charakter['HP']}.\")\n",
        "\n",
        "def triff_wanderer(charakter):\n",
        "    heilung = dice(4)\n",
        "    charakter[\"HP\"] += heilung\n",
        "    print(f\"Du triffst einen freundlichen Wanderer, der dir einen Heiltrank gibt. Du regenerierst {heilung} HP. Deine HP sind nun {charakter['HP']}.\")\n",
        "\n",
        "# Erkundungen Location Liste erstellen\n",
        "erkundungen = {\n",
        "    \"Wald\": finde_schatz,\n",
        "    \"Berg\": monster_angriff,\n",
        "    \"Fluss\": triff_wanderer,\n",
        "    \"Dorf\": finde_schatz\n",
        "}\n",
        "\n",
        "def erkunden(charakter):\n",
        "    ort = random.choice(list(erkundungen.keys()))\n",
        "    print(f\"Du erkundest einen {ort}.\")\n",
        "    erkundungen[ort](charakter)\n",
        "\n",
        "# Spielbeginn\n",
        "print(\"GAME BEGINS\")\n",
        "print(\"Wähle zunächst einen Charakter: \")\n",
        "my_player = create_character()\n",
        "print(\"Nun beginnt deine Reise...\")\n",
        "\n",
        "print(\"\\nDu stehst vor einer dunklen Höhle. Was tust du?\")\n",
        "print(\"1️⃣ Gehe hinein.\")\n",
        "print(\"2️⃣ Laufe weiter.\")\n",
        "wahl = input(\"Wähle 1 oder 2: \")\n",
        "if wahl == \"1\":\n",
        "    print(\"Du betrittst die Höhle\")\n",
        "    first_enemy = create_enemy()\n",
        "    print(\"Huch... Ein Gegner erscheint\")\n",
        "    print(f\"{first_enemy['Name']} fordert dich zum Kampf auf\")\n",
        "    kampf(my_player, first_enemy)\n",
        "elif wahl == \"2\":\n",
        "    print(\"Du gehst weiter und findest eine sichere Stelle zum Ausruhen. \")\n",
        "    new_inventory = \"Heiltrank\"\n",
        "    print(f\"Oha, hier liegt ein {new_inventory} rum. Heb es doch auf!\")\n",
        "    input(\"Drücke ENTER, um das aufzuheben\")\n",
        "    my_player['Inventar'].append(new_inventory)\n",
        "    print(f\"Cool, dein Inventar besteht nun aus: {my_player['Inventar']}\")\n",
        "else:\n",
        "    print(\"Du hast nichts getan und bist stehen geblieben. \")\n",
        "\n",
        "# Beispielausführung einer Erkundung\n",
        "erkunden(my_player)\n",
        "zeige_inventar(my_player)\n",
        "\n"
      ],
      "metadata": {
        "colab": {
          "base_uri": "https://localhost:8080/"
        },
        "id": "3qiYVUlll8bv",
        "outputId": "00c84586-ebd9-47b7-bb89-3b4632e97156"
      },
      "execution_count": 16,
      "outputs": [
        {
          "output_type": "stream",
          "name": "stdout",
          "text": [
            "GAME BEGINS\n",
            "Wähle zunächst einen Charakter: \n",
            "Gib den (Namen) deines Charakters ein: jans\n",
            "Gib die Klasse deines Charakters ein (z.B. Krieger, Magier): magier\n",
            "Gib die Spezies deines Charakters ein (z.B. Mensch, Elf): mensch\n",
            "Nun beginnt deine Reise...\n",
            "\n",
            "Du stehst vor einer dunklen Höhle. Was tust du?\n",
            "1️⃣ Gehe hinein.\n",
            "2️⃣ Laufe weiter.\n",
            "Wähle 1 oder 2: 1\n",
            "Du betrittst die Höhle\n",
            "Huch... Ein Gegner erscheint\n",
            "stinkender Ork fordert dich zum Kampf auf\n",
            "Du kämpfst gegen stinkender Ork\n",
            "Drücke ENTER zum Würfeln\n",
            "jans würfelt: 4\n",
            "stinkender Ork nimmt 4 Schaden\n",
            "stinkender Ork hat nun 8 HP\n",
            "stinkender Ork würfelt: 4\n",
            "jans nimmt 4 Schaden\n",
            "Dein jans hat nun 16 HP\n",
            "-------------------\n",
            "Drücke ENTER zum Würfeln\n",
            "jans würfelt: 5\n",
            "stinkender Ork nimmt 5 Schaden\n",
            "stinkender Ork hat nun 3 HP\n",
            "stinkender Ork würfelt: 1\n",
            "jans nimmt 1 Schaden\n",
            "Dein jans hat nun 15 HP\n",
            "-------------------\n",
            "Drücke ENTER zum Würfeln\n",
            "jans würfelt: 3\n",
            "stinkender Ork nimmt 3 Schaden\n",
            "stinkender Ork hat nun 0 HP\n",
            "Du hast gewonnen!\n",
            "Du erkundest einen Dorf.\n",
            "Du hast ein Goldmünze gefunden und in dein Inventar gelegt!\n",
            "\n",
            "Inventar:\n",
            "- Goldmünze\n"
          ]
        }
      ]
    }
  ]
}